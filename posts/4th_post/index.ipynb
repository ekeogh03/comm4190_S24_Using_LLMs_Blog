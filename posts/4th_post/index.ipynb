{
 "cells": [
  {
   "cell_type": "raw",
   "id": "f50a233b-eaad-4ee4-bf07-f7b85ff2713f",
   "metadata": {},
   "source": [
    "---\n",
    "title: \"Life without...\"\n",
    "description: \"Does AI imagine a world without men or women the most productive?\"\n",
    "author: \"Emmy Keogh\"\n",
    "date: \"2/12/2024\"\n",
    "categories:\n",
    "  - LLMs\n",
    "  - prompting\n",
    "  - creative\n",
    "  - gender bias\n",
    "---"
   ]
  },
  {
   "cell_type": "markdown",
   "id": "8d537af6-1226-48a9-9085-1c6a7cc59538",
   "metadata": {},
   "source": [
    "<img src=\"barbie.png\" width=\"50%\" />"
   ]
  },
  {
   "cell_type": "markdown",
   "id": "d361dd05-4ca9-438e-af6b-e843a8f4ded6",
   "metadata": {},
   "source": [
    "Since Barbie hit theaters last summer, I'm sure audiences have thought about how the world would be if only Kens' existed and conversely, if only Barbies wandered the streets. Would humanity flourish with only one gender? If so, for how long? I'm interested in AI's visual portrayal of the world without men and the world without women after 1 day, 1 year, and 10 years in the future. Let's get started!"
   ]
  },
  {
   "cell_type": "markdown",
   "id": "7e6c4788-dbba-4c69-85e6-0ed151ad187f",
   "metadata": {},
   "source": [
    "Using Dall-E 3, I prompted the LLM to \"Create an image of a city one day after all men have disappeared.\" "
   ]
  },
  {
   "cell_type": "markdown",
   "id": "3830083c-545e-4e37-b7f6-a98cc3fbcdbc",
   "metadata": {},
   "source": [
    "### First Attempt"
   ]
  },
  {
   "cell_type": "markdown",
   "id": "717ff863-cd98-4ca9-b3aa-7d9b69a49545",
   "metadata": {},
   "source": [
    "The LLM must have assumed that \"men\" referred to all humans (which is an interesting note for another time), because the picture it printed was quite melancholic and a man still appeared. "
   ]
  },
  {
   "cell_type": "markdown",
   "id": "cdbc3405-73c7-4bdf-887a-ceab9c21f173",
   "metadata": {},
   "source": [
    "<img src=\"try1.png\" width=\"50%\" />"
   ]
  },
  {
   "cell_type": "markdown",
   "id": "b7bf94f8-4a04-4e24-a738-5f3cd328597c",
   "metadata": {},
   "source": [
    "For the next try, I used the prompt: Create an image of a city one day after all men have disappeared, but women are alive and well."
   ]
  },
  {
   "cell_type": "markdown",
   "id": "4f8b4766-037f-4a57-8435-7fe7c98db543",
   "metadata": {},
   "source": [
    "**I will be using this format for all the prompts ahead, i.e. Create an image of a city one ____ after all _____ have disappeared, but _______ are alive and well.**"
   ]
  },
  {
   "cell_type": "markdown",
   "id": "c70fdeb9-2283-4110-a568-8a95a0c1d26b",
   "metadata": {},
   "source": [
    "### One Day Without Men"
   ]
  },
  {
   "cell_type": "markdown",
   "id": "006b502c-1431-4161-94d3-d091b22b5851",
   "metadata": {},
   "source": [
    "This time the LLM changed its course --I think finally understanding my request-- and outputted this normal city."
   ]
  },
  {
   "cell_type": "markdown",
   "id": "2dd25eef-e7f0-4155-b87c-ef37cadba657",
   "metadata": {},
   "source": [
    "<img src=\"pic2.png\" width=\"50%\" />"
   ]
  },
  {
   "cell_type": "markdown",
   "id": "b167d299-94a2-405a-9712-f14b0dd3eafc",
   "metadata": {},
   "source": [
    "I think it's nice that the LLM even added a pretty sunset! Lights are off, so I'm sure the world is in shock wondering where all the men went."
   ]
  },
  {
   "cell_type": "markdown",
   "id": "e8bcc9a9-7362-441c-a82c-dea59aabab24",
   "metadata": {},
   "source": [
    "### One Year Without Men"
   ]
  },
  {
   "cell_type": "markdown",
   "id": "aba2a283-ace5-41d7-b945-03f58c70f3cd",
   "metadata": {},
   "source": [
    "<img src=\"pic3.png\" width=\"50%\" />"
   ]
  },
  {
   "cell_type": "markdown",
   "id": "de10dabf-26f2-4ad9-975e-fcc232830346",
   "metadata": {},
   "source": [
    "The next image was generated with the same prompt except 1 year instead of 1 day, and it gave us a *very* similar skyline. I think something that could be interpreted from this image is no major buildings were added in the year since men left. Also, all the lights are off *again* signaling that maybe no one occupies these buildings anymore. "
   ]
  },
  {
   "cell_type": "markdown",
   "id": "6a3c2d16-fcfa-4372-b556-91e2196d394c",
   "metadata": {},
   "source": [
    "### 10 Years Without Men"
   ]
  },
  {
   "cell_type": "markdown",
   "id": "cf84cf8f-7b9c-447b-b163-b471ae2402a2",
   "metadata": {},
   "source": [
    "<img src=\"pic4.png\" width=\"50%\" />"
   ]
  },
  {
   "cell_type": "markdown",
   "id": "97a71647-6398-460a-8111-0bbf5c6b18a3",
   "metadata": {},
   "source": [
    "This take looks the most lively. It's as if the women moved into these buildings and started to make some changes in the last few years. This shows women have come together and that civilization survives!"
   ]
  },
  {
   "cell_type": "markdown",
   "id": "ea425ca1-4df0-4a3b-84a1-b7fef979bff3",
   "metadata": {},
   "source": [
    "### One Day Without Women"
   ]
  },
  {
   "cell_type": "markdown",
   "id": "a6ac3877-9a55-4cc4-8bbd-b54920a92843",
   "metadata": {},
   "source": [
    "<img src=\"pic5.png\" width=\"50%\" /> "
   ]
  },
  {
   "cell_type": "markdown",
   "id": "45b7787a-8135-4af8-a718-5e3d02fc0cfd",
   "metadata": {},
   "source": [
    "I interpret this visual as a quiet city and no one knows what to do because all the women just disappeared, so they have called off the day from work."
   ]
  },
  {
   "cell_type": "markdown",
   "id": "7d63f962-f8cf-4231-b4f6-d773c7587c14",
   "metadata": {},
   "source": [
    "### One Year Without Women"
   ]
  },
  {
   "cell_type": "markdown",
   "id": "14f09857-ae28-4d7c-a98c-c21369444002",
   "metadata": {},
   "source": [
    "<img src=\"pic6.png\" width=\"50%\" />"
   ]
  },
  {
   "cell_type": "markdown",
   "id": "b2026f55-26be-484b-b9b0-50be7dd2205c",
   "metadata": {},
   "source": [
    "After a year, the men are used to things and they are up and running quicker than the women were for comparison at this point in time."
   ]
  },
  {
   "cell_type": "markdown",
   "id": "64812654-3e7f-4733-94a7-ed11401ea1e4",
   "metadata": {},
   "source": [
    "### Ten Years Without Women"
   ]
  },
  {
   "cell_type": "markdown",
   "id": "5d1eadb3-4c92-4b6e-93cf-4993fdb55ae9",
   "metadata": {},
   "source": [
    "<img src=\"pic7.png\" width=\"50%\" />"
   ]
  },
  {
   "cell_type": "markdown",
   "id": "b11aa335-7222-445c-857a-8f868b355287",
   "metadata": {},
   "source": [
    "I assume this dark city means that men did not find a way to repopulate the Earth, leaving the buildings dark and empty after 10 years without women. "
   ]
  },
  {
   "cell_type": "markdown",
   "id": "2f1f961e-8858-48f6-b779-eb897b58c6d3",
   "metadata": {},
   "source": [
    "### Closing Remarks"
   ]
  },
  {
   "cell_type": "markdown",
   "id": "f79e1de9-375f-4da5-b971-7baa3a4bebbb",
   "metadata": {},
   "source": [
    "This was an interesting exercise solely based on my curiosity with how I thought AI would deliver visuals based on gender. I guess I imagined more of a bias in terms of more technology with the men and more nature with the women or something along those lines. Either way, I think this idea could be explored more, but for now it seems like we would be best off if both Barbies and Kens stuck around!"
   ]
  },
  {
   "cell_type": "markdown",
   "id": "34fcca80-9125-4210-bde4-a2b0d9e265ea",
   "metadata": {},
   "source": [
    "Thanks for tuning in!"
   ]
  },
  {
   "cell_type": "markdown",
   "id": "564e966e-c176-4ac3-9a6d-45ce7981a870",
   "metadata": {},
   "source": [
    "Emmy"
   ]
  }
 ],
 "metadata": {
  "citation-manager": {
   "items": {}
  },
  "kernelspec": {
   "display_name": "Python 3.8",
   "language": "python",
   "name": "python3"
  },
  "language_info": {
   "codemirror_mode": {
    "name": "ipython",
    "version": 3
   },
   "file_extension": ".py",
   "mimetype": "text/x-python",
   "name": "python",
   "nbconvert_exporter": "python",
   "pygments_lexer": "ipython3",
   "version": "3.8.8"
  }
 },
 "nbformat": 4,
 "nbformat_minor": 5
}
