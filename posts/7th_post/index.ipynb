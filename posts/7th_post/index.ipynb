{
 "cells": [
  {
   "cell_type": "raw",
   "id": "fdec7108-edc3-46b7-8a61-b0bda910bc55",
   "metadata": {},
   "source": [
    "---\n",
    "title: \"Broken Telephone\"\n",
    "description: \"Text-to-Picture and then Picture-to-Text... will the first and last image look the same?\"\n",
    "author: \"Emmy Keogh\"\n",
    "date: \"2/26/2024\"\n",
    "categories:\n",
    "  - LLMs\n",
    "  - prompting\n",
    "  - creative\n",
    "---"
   ]
  },
  {
   "cell_type": "markdown",
   "id": "96c64c62-3982-44aa-b4f7-578966e5a95d",
   "metadata": {},
   "source": [
    "### Ever heard of the game Broken Telephone?"
   ]
  },
  {
   "cell_type": "markdown",
   "id": "e6a691f7-7fe7-41f3-8f5e-99a4a3a999db",
   "metadata": {},
   "source": [
    "Basically, it is the fraternal twin to the game Telephone. You start with one word/phrase, and as it is passed through the players it gets more and more dissimilar to the original prompt. After learning about the coding for picture-to-text, I thought this would be a great test! How far away from the original prompt can we get after generating a picture, turning the picture to text, and re-inserting the picture again? Well, let's find out!"
   ]
  },
  {
   "cell_type": "markdown",
   "id": "ec31bd73-9b7a-4ed0-a45c-4bc191603339",
   "metadata": {},
   "source": [
    "#### Prompt: Create a picture of a selfie of a dog wearing sunglasses, an upset cat, and a horse who is just happy to be there. Do not make it a drawing make it as realistic as possible."
   ]
  },
  {
   "cell_type": "markdown",
   "id": "a7dfc95b-c793-4314-a2ae-395f82da1ab7",
   "metadata": {},
   "source": [
    "#### Picture "
   ]
  },
  {
   "cell_type": "markdown",
   "id": "e36267c8-3bd5-47db-9de3-b5cd26b9e6c2",
   "metadata": {},
   "source": [
    "<img src=\"og.png\" width=\"50%\" />"
   ]
  },
  {
   "cell_type": "markdown",
   "id": "31dc5781-363c-4c40-9c72-ebd58f91d01d",
   "metadata": {},
   "source": [
    "#### Picture to text"
   ]
  },
  {
   "cell_type": "markdown",
   "id": "b33edde4-e22a-4630-8c97-dfd114f5ca82",
   "metadata": {},
   "source": [
    "content=\"The image shows three animals, each with anthropomorphic expressions as if they are posing for a selfie. On the left is a cat with a somewhat grumpy expression. In the center is a dog wearing sunglasses, with its tongue out in a happy expression, reminiscent of a typical selfie smile. On the right is a horse, also smiling and showing teeth, as though it's laughing or grinning. The styling of the image is highly detailed and realistic, and the animals are presented in a way that\""
   ]
  },
  {
   "cell_type": "markdown",
   "id": "2e726c27-8ea7-4891-9de2-266fa999ddcb",
   "metadata": {},
   "source": [
    "Now, I cycle back in the picture-to-text response as the new prompt for the picture to see how much it changes compared to the original. "
   ]
  },
  {
   "cell_type": "markdown",
   "id": "60ea814a-f325-49d9-ad5c-dc115a665b68",
   "metadata": {},
   "source": [
    "#### Picture"
   ]
  },
  {
   "cell_type": "markdown",
   "id": "704d1e34-7364-4039-a58c-88180c304ba6",
   "metadata": {},
   "source": [
    "<img src=\"second.png\" width=\"50%\" />"
   ]
  },
  {
   "cell_type": "markdown",
   "id": "dd5346dc-fcc8-4aa0-ac79-47ba75f831c0",
   "metadata": {},
   "source": [
    "#### Picture to text"
   ]
  },
  {
   "cell_type": "markdown",
   "id": "9024cb3d-3f6c-4ea1-a06c-ab62a1851224",
   "metadata": {},
   "source": [
    "content=\"This image depicts a trio of anthropomorphized animals posing as if they are taking a selfie. From left to right, there is a grumpy-looking cat holding a smartphone, a smiling dog in the center wearing sunglasses, and a horse showing its teeth in a wide grin on the right. The image is highly stylized and detailed, showcasing exaggerated human-like expressions on the animals' faces, which suggests that it might be a digital artwork or a creative illustration, rather than real animals.\""
   ]
  },
  {
   "cell_type": "markdown",
   "id": "a3161b4e-c983-4bb5-b332-36a1452964a8",
   "metadata": {},
   "source": [
    "This one lost the selfie element and some of the saturation of color, but for the most part the description fits."
   ]
  },
  {
   "cell_type": "markdown",
   "id": "09533106-6b9c-4652-8f1c-886820c30cdb",
   "metadata": {},
   "source": [
    "#### Picture"
   ]
  },
  {
   "cell_type": "markdown",
   "id": "c5705654-a16e-46d4-9d12-242722637157",
   "metadata": {},
   "source": [
    "<img src=\"third.png\" width=\"50%\" />"
   ]
  },
  {
   "cell_type": "markdown",
   "id": "ef34784f-1dee-4323-b305-7c7e39777001",
   "metadata": {},
   "source": [
    "#### Picture to text"
   ]
  },
  {
   "cell_type": "markdown",
   "id": "288e3c1a-bcab-4aa1-b4bb-37592babb3a9",
   "metadata": {},
   "source": [
    "content=\"This image features a whimsical illustration of four animals as if they are posing for a selfie. From left to right, there's a cat, a dog wearing sunglasses, another small enthusiastic dog, and a horse—all of which are displaying exaggerated, comical facial expressions. The dog with sunglasses appears to be holding the smartphone for the selfie. At the bottom of the image, there is a graphic depiction of a digital tablet or drawing pad with a stylus pen, indicating that this might be a digital.\""
   ]
  },
  {
   "cell_type": "markdown",
   "id": "9b53c20b-0800-457c-bf02-4f5aabbdc5e2",
   "metadata": {},
   "source": [
    "We've added another animal! Now the cat is taking the selfie, and it is clearly a digital drawing, so it lost its realistic style. "
   ]
  },
  {
   "cell_type": "markdown",
   "id": "ea6dd153-b4a0-47f7-b8b7-38b58f9a00e0",
   "metadata": {},
   "source": [
    "#### Picture"
   ]
  },
  {
   "cell_type": "markdown",
   "id": "b21a405a-af4d-44f6-bf16-c4edd54ea278",
   "metadata": {},
   "source": [
    "<img src=\"fourth.png\" width=\"50%\" />"
   ]
  },
  {
   "cell_type": "markdown",
   "id": "70543c0c-3e68-4025-a0c7-d2a2445ef50b",
   "metadata": {},
   "source": [
    "#### Picture to text"
   ]
  },
  {
   "cell_type": "markdown",
   "id": "f5cb8077-672e-4537-8abb-78f7c6ab26e0",
   "metadata": {},
   "source": [
    "content='This image shows a digital drawing on a graphics tablet. The drawing is of five animals with anthropomorphized features, making them appear as if they have human-like expressions. From left to right, there are two cats, two dogs, and a horse. The animals are characterized with features such as prominent eyes and expressive faces.\\n\\nThe dog second from the left is wearing a pair of sunglasses, which adds a touch of humor to the image. The horse on the right is partially obscured by a human'"
   ]
  },
  {
   "cell_type": "markdown",
   "id": "7e123093-49fe-48f0-a4ce-7792f12fb42d",
   "metadata": {},
   "source": [
    "The picture has lost its original intention of a selfie of three animals. Now 3 animals are wearing sunglasses, and the horse is not as happy as it started out. At least the picture is back to a more realistic style."
   ]
  },
  {
   "cell_type": "markdown",
   "id": "43901a44-648f-476f-9c73-58e0791554f4",
   "metadata": {},
   "source": [
    "#### Final Picture "
   ]
  },
  {
   "cell_type": "markdown",
   "id": "1a995fc2-505b-4ed3-8470-3082883648a5",
   "metadata": {},
   "source": [
    "<img src=\"fifth.png\" width=\"50%\" />"
   ]
  },
  {
   "cell_type": "markdown",
   "id": "b051b0f2-d44b-4cba-8a7c-1a0a9484d31f",
   "metadata": {},
   "source": [
    "### Closing Remarks"
   ]
  },
  {
   "cell_type": "markdown",
   "id": "2fb6a12b-0d83-4639-bfe8-5598eb90308c",
   "metadata": {},
   "source": [
    "We went from a cute selfie of a dog, a horse, and a cat to a drawing of a cat, three dogs, a horse, and a human. Seems like the back-and-forth nature of the prompts confused the technology. This was a fun experiment, but I'd rather play this game with my friends instead!"
   ]
  },
  {
   "cell_type": "markdown",
   "id": "1c3fd6d4-7ee3-4c6a-bf5a-228f2cd99026",
   "metadata": {},
   "source": [
    "Thanks for tuning in,"
   ]
  },
  {
   "cell_type": "markdown",
   "id": "b84f4912-79b6-422c-b4fb-d7e762dadaa4",
   "metadata": {},
   "source": [
    "Emmy"
   ]
  },
  {
   "cell_type": "code",
   "execution_count": null,
   "id": "174ae126-3118-47ba-8c2b-1cdebb726bc0",
   "metadata": {},
   "outputs": [],
   "source": []
  }
 ],
 "metadata": {
  "citation-manager": {
   "items": {}
  },
  "kernelspec": {
   "display_name": "Python 3.8",
   "language": "python",
   "name": "python3"
  },
  "language_info": {
   "codemirror_mode": {
    "name": "ipython",
    "version": 3
   },
   "file_extension": ".py",
   "mimetype": "text/x-python",
   "name": "python",
   "nbconvert_exporter": "python",
   "pygments_lexer": "ipython3",
   "version": "3.8.8"
  }
 },
 "nbformat": 4,
 "nbformat_minor": 5
}
