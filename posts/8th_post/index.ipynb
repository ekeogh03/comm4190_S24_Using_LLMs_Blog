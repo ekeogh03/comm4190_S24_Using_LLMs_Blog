{
 "cells": [
  {
   "cell_type": "raw",
   "id": "a166287e-9bed-4d26-aaa5-a7afa87f9aae",
   "metadata": {},
   "source": [
    "---\n",
    "title: \"Visual Accuracy of Ancestry.com Pt 1\"\n",
    "description: \"Using my DNA origins, does Co-Pilot make a similar picture of me?\"\n",
    "author: \"Emmy Keogh\"\n",
    "date: \"3/12/2024\"\n",
    "categories:\n",
    "  - LLMs\n",
    "  - prompting\n",
    "  - creative\n",
    "  - series\n",
    "---"
   ]
  },
  {
   "cell_type": "markdown",
   "id": "7d115ea2-9646-4f99-8f2a-9d41da1c66d6",
   "metadata": {},
   "source": [
    "One day in 6th grade, I came home from school and my mom made me spit in a tube. She wanted to send my DNA to a company to track my origins to compare it to the rest of my family. No, she wasn't checking if I was adopted- although that was my first thought- but she was always interested in family history, so this was right up her alley!"
   ]
  },
  {
   "cell_type": "markdown",
   "id": "3b1b9880-9917-49e7-8419-3aab6c91d010",
   "metadata": {},
   "source": [
    "The results came back and I was fairly interested! As seen in the picture below, I am **33% English/Nortwestern European, 27% Irish, 20% Scottish, 9% Norwegian, 6% from Wales, 4% Finnish,** and **1% Portuguese**. "
   ]
  },
  {
   "cell_type": "markdown",
   "id": "3157b5a5-a190-42b6-a815-555bdfff6e4f",
   "metadata": {},
   "source": [
    "<img src=\"dna.png\" width=\"50%\" />"
   ]
  },
  {
   "cell_type": "markdown",
   "id": "edbb7d44-53b7-46ca-b526-226eb8b303a4",
   "metadata": {},
   "source": [
    "So now, after having much experience using LLM services and AI-generated photos, I decided I wanted to test what I could look like with the same data using Co-Pilot Imaging. "
   ]
  },
  {
   "cell_type": "markdown",
   "id": "975c8f75-a392-49e0-ad4c-7df9a11014ba",
   "metadata": {},
   "source": [
    "For reference, this is me!"
   ]
  },
  {
   "cell_type": "markdown",
   "id": "5a86c811-6fa4-4b26-964f-fc0104cff512",
   "metadata": {},
   "source": [
    "<img src=\"me.png\" width=\"50%\" />"
   ]
  },
  {
   "cell_type": "markdown",
   "id": "43a7df0f-39c9-47b3-b9e3-f8138a10ed4e",
   "metadata": {},
   "source": [
    "#### My prompt: "
   ]
  },
  {
   "cell_type": "markdown",
   "id": "7e121970-8b12-4ddd-9210-ea310bb182fb",
   "metadata": {},
   "source": [
    "Create a photo as realistic as possible of a 20 year old young woman who is 33% English/Nortwestern European, 27% Irish, 20% Scottish, 9% Norwegian, 6% from Wales, 4% Finnish, and 1% Portuguese. Be detailed including predicted hair color, freckles or no freckles, eye color, height, weight, etc."
   ]
  },
  {
   "cell_type": "markdown",
   "id": "b1b645dd-c348-4950-be78-edbb7d0f0d52",
   "metadata": {},
   "source": [
    "<img src=\"pic1.jpeg\" width=\"50%\" />"
   ]
  },
  {
   "cell_type": "markdown",
   "id": "ea53ad1b-5add-404d-8d21-c2a27d95ab10",
   "metadata": {},
   "source": [
    "Honestly, I was impressed! I wish I got those genes... oh wait! LOL! Anyway, I decided to try again, just to see a new option. I decided to take out the part of my prompt telling it what to be specific about because I wanted it to decide on its own what is important."
   ]
  },
  {
   "cell_type": "markdown",
   "id": "be4b57db-95a9-4323-b51a-b6ad583a1c25",
   "metadata": {},
   "source": [
    "### My prompt: "
   ]
  },
  {
   "cell_type": "markdown",
   "id": "15b8354a-827f-4abe-bf14-dd94a52000b4",
   "metadata": {},
   "source": [
    "Create a photo as realistic as possible of a 20 year old young woman who is 33% English/Nortwestern European, 27% Irish, 20% Scottish, 9% Norwegian, 6% from Wales, 4% Finnish, and 1% Portuguese. Be detailed!"
   ]
  },
  {
   "cell_type": "markdown",
   "id": "43a5c41f-352b-4b08-bd37-00ffa5ff6670",
   "metadata": {},
   "source": [
    "<img src=\"pic2.jpeg\" width=\"50%\" />"
   ]
  },
  {
   "cell_type": "markdown",
   "id": "fcc98f31-eb5b-408b-8f2f-c1d764a8f645",
   "metadata": {},
   "source": [
    "Wow! It's actually kind of scary to see the similarities based on so little information. My next attempt is to describe myself in addition to the DNA data to try and get the most accurate version possible. "
   ]
  },
  {
   "cell_type": "markdown",
   "id": "b33a7247-f05e-43fa-ae56-ea436689750f",
   "metadata": {},
   "source": [
    "### My Prompt:"
   ]
  },
  {
   "cell_type": "markdown",
   "id": "e7e84883-cfbd-4538-b7c0-79ba02fe27d6",
   "metadata": {},
   "source": [
    "Create a photo as realistic as possible of a 20 year old young woman who is 33% English/Nortwestern European, 27% Irish, 20% Scottish, 9% Norwegian, 6% from Wales, 4% Finnish, and 1% Portuguese. She has dirty blonde hair, green eyes, and a few freckles, she is tall and has light skin that burns in the sun but turns into a tan."
   ]
  },
  {
   "cell_type": "markdown",
   "id": "f27253a9-2483-42ed-b301-58dc2854a1bc",
   "metadata": {},
   "source": [
    "### Interestingly, Co-Pilot turned my prompt into a written description of a young lady named Evelyn! "
   ]
  },
  {
   "cell_type": "markdown",
   "id": "31663b51-04b6-4003-84b9-bd1d1e1334da",
   "metadata": {},
   "source": [
    "Certainly! Let’s imagine a young woman who embodies this diverse heritage. Here’s a detailed description of her:\n",
    "\n",
    "Name: Evelyn O’Connor\n",
    "Age: 20\n",
    "Heritage:\n",
    "33% English/Northwestern European: Evelyn inherits the fair complexion and refined features associated with this lineage.\n",
    "27% Irish: Her Irish ancestry contributes to her vibrant spirit, love for storytelling, and a touch of mischief.\n",
    "20% Scottish: From her Scottish roots, she gains a strong sense of tradition, resilience, and a penchant for exploring misty landscapes.\n",
    "9% Norwegian: Evelyn’s Norwegian bloodline gifts her with striking features—perhaps high cheekbones and a tall, athletic build.\n",
    "6% Welsh: Her Welsh heritage adds a hint of mystery and a love for poetry and music.\n",
    "4% Finnish: The Finnish influence brings a connection to nature, lakes, and forests.\n",
    "1% Portuguese: A dash of Portuguese flair infuses warmth and passion into her personality.\n",
    "Physical Attributes:\n",
    "Hair: Evelyn’s hair is a lovely shade of dirty blonde—sun-kissed and tousled. It falls just below her shoulders, framing her face.\n",
    "Eyes: Her eyes are a captivating shade of emerald green, reflecting the lush landscapes of Ireland.\n",
    "Skin: Evelyn’s skin is fair, with a tendency to burn in the sun. However, after a few days of exposure, it transforms into a gentle golden tan.\n",
    "Freckles: She has a sprinkling of freckles across her nose and cheeks, reminiscent of stardust.\n",
    "Height: Standing at 5 feet 10 inches, Evelyn commands attention wherever she goes.\n",
    "Weight: A healthy weight that complements her tall frame—she’s strong and lithe.\n",
    "Style:\n",
    "Evelyn’s wardrobe blends classic elegance with bohemian flair. Flowy dresses, vintage denim, and oversized sweaters are her go-to choices.\n",
    "She often wears delicate silver jewelry—a pendant with a Celtic knot, perhaps, symbolizing her rich heritage.\n",
    "Evelyn’s favorite accessory is a wide-brimmed hat, perfect for shielding her fair skin during sunny adventures.\n",
    "Personality:\n",
    "Adventurous, curious, and unafraid to explore the world.\n",
    "A lover of folklore, she believes in magic hidden within ancient forests.\n",
    "Evelyn enjoys dancing barefoot under the moonlight and writing poetry by candlelight.\n",
    "Her laughter is infectious, and her eyes hold secrets waiting to be discovered.\n",
    "Remember, this description is purely imaginative, but I hope it brings Evelyn to life in your mind’s eye! 🌟"
   ]
  },
  {
   "cell_type": "markdown",
   "id": "0cc527b7-bfa7-4b00-b8b5-3c1b4807cfc8",
   "metadata": {},
   "source": [
    "### Anyways, let's try again for that detailed picture..."
   ]
  },
  {
   "cell_type": "markdown",
   "id": "5c5db1fc-6799-4748-b814-1f097be2cb76",
   "metadata": {},
   "source": [
    "Final prompt: please create an photo as realistic as possible of my prompt: a 20 year old young woman who is 33% English/Nortwestern European, 27% Irish, 20% Scottish, 9% Norwegian, 6% from Wales, 4% Finnish, and 1% Portuguese. She has dirty blonde hair, green eyes, and a few freckles, she is tall and has light skin that burns in the sun but turns into a tan."
   ]
  },
  {
   "cell_type": "markdown",
   "id": "6a7d8ed4-dd87-44f7-9351-05a495dbd16c",
   "metadata": {},
   "source": [
    "<img src=\"pic3.png\" width=\"50%\" />"
   ]
  },
  {
   "cell_type": "markdown",
   "id": "a0342492-f4ab-4eaa-a2d0-235982350d78",
   "metadata": {},
   "source": [
    "I'd say that this is the closest one so far because of the hair color, although there are a bit too many freckles and the shapes of some of the facial features don't match mine."
   ]
  },
  {
   "cell_type": "markdown",
   "id": "3f138c05-a6b9-4efc-b0e0-1a51ae40641d",
   "metadata": {},
   "source": [
    "This led me to wonder now if the similarities are coming from my descriptions or the DNA more, so I decided for my last prompt to ignore Ancestry.com and just use the simple description that I've used above to see the similarities. "
   ]
  },
  {
   "cell_type": "markdown",
   "id": "257341ba-bb3b-42fc-be02-20074ac93fb1",
   "metadata": {},
   "source": [
    "### My Prompt:"
   ]
  },
  {
   "cell_type": "markdown",
   "id": "6539ab9a-79b2-4381-96a0-6ce3c68d3847",
   "metadata": {},
   "source": [
    "Please create an photo as realistic as possible of my prompt: a 20 year old young woman who has dirty blonde hair, green eyes, and a few freckles, she is tall and has light skin that burns in the sun but turns into a tan."
   ]
  },
  {
   "cell_type": "markdown",
   "id": "cfd2d998-ba15-40d2-97b7-a98acff29106",
   "metadata": {},
   "source": [
    "<img src=\"pic4.png\" width=\"50%\" />"
   ]
  },
  {
   "cell_type": "markdown",
   "id": "e2de78e4-600e-4f9b-af52-08d11bde54cd",
   "metadata": {},
   "source": [
    "### Concluding Thoughts"
   ]
  },
  {
   "cell_type": "markdown",
   "id": "06698d6e-5080-44d3-8e9f-36cd4d500bb2",
   "metadata": {},
   "source": [
    "Of course, I am a unique human that no AI is going to be able to accurately predict, but I was fascinated to see especially with just DNA how I could have looked based on my genes. Something that I find funny, is that I was wondering why blonde wasn't showing without my inclusion of it, but while I was born a blonde, and since I've gotten highlights maybe AI is actually more accurate than I am! This was a fun experiment, and I'd be interested to see the accuracy of others trying this!"
   ]
  },
  {
   "cell_type": "markdown",
   "id": "4f0c636d-1f1d-4681-8ead-e4eb7a5f06cb",
   "metadata": {},
   "source": [
    "Thanks for tuning in,"
   ]
  },
  {
   "cell_type": "markdown",
   "id": "853c3a34-0b5d-4020-ab3d-059ab8484578",
   "metadata": {},
   "source": [
    "Emmy"
   ]
  },
  {
   "cell_type": "code",
   "execution_count": null,
   "id": "99541bab-ab4a-4d76-9f60-0d203a6b3be6",
   "metadata": {},
   "outputs": [],
   "source": []
  }
 ],
 "metadata": {
  "citation-manager": {
   "items": {}
  },
  "kernelspec": {
   "display_name": "Python 3.8",
   "language": "python",
   "name": "python3"
  },
  "language_info": {
   "codemirror_mode": {
    "name": "ipython",
    "version": 3
   },
   "file_extension": ".py",
   "mimetype": "text/x-python",
   "name": "python",
   "nbconvert_exporter": "python",
   "pygments_lexer": "ipython3",
   "version": "3.8.8"
  }
 },
 "nbformat": 4,
 "nbformat_minor": 5
}
