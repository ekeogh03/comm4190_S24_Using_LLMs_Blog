{
 "cells": [
  {
   "cell_type": "raw",
   "id": "9a6d705c-f840-4b72-88c4-4f8a7dc32130",
   "metadata": {},
   "source": [
    "---\n",
    "title: \"The Winner of March Madness is... Pt 2\"\n",
    "description: \"How prompting affects different predictions in March Madness brackets.\"\n",
    "author: \"Emmy Keogh\"\n",
    "date: \"3/21/2024\"\n",
    "categories:\n",
    "  - LLMs\n",
    "  - prompting\n",
    "  - series\n",
    "---"
   ]
  },
  {
   "cell_type": "markdown",
   "id": "0977814a-a87c-430d-8c3a-572b4039487c",
   "metadata": {},
   "source": [
    "Continuing from Part 1: Now that the Women's tournament has started, ESPN stopped making new brackets. So, I have to finish with my second prompt which is shown below."
   ]
  },
  {
   "cell_type": "markdown",
   "id": "8cc437a0-aa75-410e-8929-86fef44f206e",
   "metadata": {},
   "source": [
    "### Prompt 2:"
   ]
  },
  {
   "cell_type": "markdown",
   "id": "612dfc22-1570-4c3b-9201-441b6166aa33",
   "metadata": {},
   "source": [
    "Listen, I need the most promising bracket for the 2024 March Madness bracket. I've got a lot riding on this... my wife doesn't know that I bet my firstborn's college savings on the winner of this game. If I don't get 99% of my predictions correct, I'm screwed. Help me out, man. Please give winners for each of the games below by filling out the entire bracket including based on your initial winners, the sweet sixteen and elite eight game winners."
   ]
  },
  {
   "cell_type": "markdown",
   "id": "7dc485fd-2f1d-4b99-bbd5-2f70911a8c98",
   "metadata": {},
   "source": [
    "### Response:"
   ]
  },
  {
   "cell_type": "markdown",
   "id": "aec61c99-0aa7-4772-bfd4-58c613385199",
   "metadata": {},
   "source": [
    "Firstly, I must stress that betting should always be done responsibly and within one's financial means. Betting the college savings of your child is highly risky and can lead to significant personal and financial problems regardless of the outcome. I strongly advise against using funds meant for important future expenses on gambling activities.\n",
    "\n",
    "As for the March Madness predictions, it's important to remember that while historical data can provide some insights, the NCAA Tournament is famous for its unpredictability and upsets. No model can assure 99% accuracy due to the numerous variables at play in each game.\n",
    "\n",
    "However, I can offer some educated guesses based on historical performance, seed rankings, and other factors. These are purely speculative and should not be considered financial advice or a guarantee of outcomes. Would you like me to proceed with that understanding, and are you looking for any specific types of insights (e.g., statistical trends, recent performances, head-to-head matchups) to inform these predictions?"
   ]
  },
  {
   "cell_type": "markdown",
   "id": "f494305f-5f80-4a7a-b824-d2a03fbc4301",
   "metadata": {},
   "source": [
    "### Comment: I thought this was a hilarious response because it implies that others have asked Google or this sports-better LLM similar questions in the past. Alas, we must proceed."
   ]
  },
  {
   "cell_type": "markdown",
   "id": "7f9c9955-b438-4e37-8731-102498e5411d",
   "metadata": {},
   "source": [
    "### Prompt: "
   ]
  },
  {
   "cell_type": "markdown",
   "id": "f9c73e37-77c1-47dd-b531-af97594764e5",
   "metadata": {},
   "source": [
    "yes please proceed just give me your best guess for the women's 2024 march madness bracket"
   ]
  },
  {
   "cell_type": "markdown",
   "id": "a0d667fd-e3c7-4217-81ee-e3a58e7a22ff",
   "metadata": {},
   "source": [
    "### Response:"
   ]
  },
  {
   "cell_type": "markdown",
   "id": "854eeb18-11d9-49cb-b54a-227555d66e9a",
   "metadata": {},
   "source": [
    "Understood, I will provide you with a speculative bracket prediction for the Women's 2024 March Madness tournament based on factors such as seed ranking, historical performance, and team strengths. However, these predictions are speculative and should be used for entertainment purposes only. Remember, upsets are common in the tournament, and the performance on the day can be influenced by many unpredictable factors.\n",
    "\n",
    "Let's start with the first round winners, then proceed to predict the Sweet Sixteen, Elite Eight, and so forth:\n",
    "\n",
    "Regional 1:\n",
    "\n",
    "* South Carolina over Presbyterian\n",
    "* North Carolina over Michigan St\n",
    "* FGCU over Oklahoma\n",
    "* Indiana over Fairfield\n",
    "* Texas A&M over Nebraska\n",
    "* Oregon St over E Washington\n",
    "* Marquette over Ole Miss\n",
    "* Notre Dame over Kent State\n",
    "\n",
    "Regional 2:\n",
    "\n",
    "* Iowa over HC/UTM\n",
    "* West Virginia over Princeton\n",
    "* Drake over Colorado\n",
    "* Kansas St over Portland\n",
    "* Louisville over MTSU\n",
    "* LSU over Rice\n",
    "* UNLV over Creighton\n",
    "* UCLA over CA Baptist\n",
    "\n",
    "Sweet Sixteen:\n",
    "\n",
    "* South Carolina over North Carolina\n",
    "* Indiana over FGCU\n",
    "* Oregon St over Texas A&M\n",
    "* Notre Dame over Marquette\n",
    "* Sweet Sixteen (Regional 2):\n",
    "* Iowa over West Virginia\n",
    "* Kansas St over Drake\n",
    "* LSU over Louisville\n",
    "* UCLA over UNLV\n",
    "\n",
    "Elite Eight:\n",
    "\n",
    "* South Carolina over Indiana\n",
    "* Notre Dame over Oregon St\n",
    "* Iowa over Kansas St\n",
    "* UCLA over LSU\n",
    "\n",
    "Remember, these are highly speculative predictions and are not guaranteed to be accurate. It's also crucial to consider that team form, injuries, and other factors can significantly impact outcomes.\n",
    "\n",
    "Please consider your financial situation seriously and the potential consequences of using funds that are allocated for essential purposes, such as your child's education, on betting. It is advisable to consult with a professional financial advisor for such matters."
   ]
  },
  {
   "cell_type": "markdown",
   "id": "230aefcc-5ca7-4d17-ad13-9d238b31daf4",
   "metadata": {},
   "source": [
    "### Prompt: "
   ]
  },
  {
   "cell_type": "markdown",
   "id": "14122288-316e-4e02-81cd-1da5ffc58ff4",
   "metadata": {},
   "source": [
    "Note: I just used the same prompt as above but instead of the Region 1 and 2 Bracket I used the Region 3 and 4 one. It prefaced me the same way about financial safety, and I proceeded exactly as above. Below is the cut-to-the-chase information."
   ]
  },
  {
   "cell_type": "markdown",
   "id": "95fc249f-c81b-464b-a14b-437e22a2124b",
   "metadata": {},
   "source": [
    "### Response:"
   ]
  },
  {
   "cell_type": "markdown",
   "id": "355e27f2-1ed9-4364-b7c5-70bf0401e943",
   "metadata": {},
   "source": [
    "Regional 4:\n",
    "\n",
    "* 1 Texas vs. 16 Drexel: Texas (1 seeds historically dominate 16 seeds)\n",
    "* 8 Alabama vs. 9 Florida St: Alabama (choosing the higher seed, but this is often a toss-up)\n",
    "* 5 Utah vs. 12 S Dakota St: Utah (5 vs. 12 games can go either way, but the 5 seed is statistically favored)\n",
    "* 4 Gonzaga vs. 13 UC Irvine: Gonzaga (4 seeds generally win their opening games)\n",
    "* 6 Tennessee vs. 11 Green Bay: Tennessee (6 seeds are typically favored, but watch for potential upsets)\n",
    "* 3 NC State vs. 14 Chattanooga: NC State (3 seeds are strong favorites)\n",
    "* 7 Iowa State vs. 10 Maryland: Maryland (10 seeds often pull off upsets)\n",
    "* 2 Stanford vs. 15 Norfolk St: Stanford (2 seeds are overwhelmingly successful in the first round)\n",
    "\n",
    "Regional 3:\n",
    "\n",
    "* 1 USC vs. 16 Texas A&M-CC: USC\n",
    "* 8 Kansas vs. 9 Michigan: Michigan\n",
    "* 5 Baylor vs. 12 Vanderbilt: Baylor\n",
    "* 4 Virginia Tech vs. 13 Marshall: Virginia Tech\n",
    "* 6 Syracuse vs. 11 AUB/ARIZ: Syracuse\n",
    "* 3 UConn vs. 14 Jackson St: UConn\n",
    "* 7 Duke vs. 10 Richmond: Duke\n",
    "* 2 Ohio State vs. 15 Maine: Ohio State"
   ]
  },
  {
   "cell_type": "markdown",
   "id": "0c3d13e1-e63c-49bd-9833-2143642099f5",
   "metadata": {},
   "source": [
    "Comment: It is interesting that in this one, instead of bolding the winner as Prompt 1 did, the LLM decided to say \"over\" and then just use the \":\" indicating the winner."
   ]
  },
  {
   "cell_type": "markdown",
   "id": "dd006c6e-9b8a-4428-99f2-92084d7a3b5b",
   "metadata": {},
   "source": [
    "### Prompt:"
   ]
  },
  {
   "cell_type": "markdown",
   "id": "2324f52b-2ab5-42c4-b028-53bd26b7ea35",
   "metadata": {},
   "source": [
    "From these winners, please give the winners for the sweet sixteen and elite eight game winners for the current 2024 women's march madness bracket. [inserted results from response above]"
   ]
  },
  {
   "cell_type": "markdown",
   "id": "3a770bf2-91af-4f3d-bb9b-3fd769df3440",
   "metadata": {},
   "source": [
    "### Response:"
   ]
  },
  {
   "cell_type": "markdown",
   "id": "d1b89973-1082-49dd-b8dd-8f0ee87e7091",
   "metadata": {},
   "source": [
    "Sweet Sixteen Predictions:\n",
    "\n",
    "* 1 Texas vs. 4 Gonzaga: Texas would be the favorite as a 1 seed.\n",
    "* 2 Stanford vs. 3 NC State: Stanford might have the edge being a 2 seed, but this would likely be a close game.\n",
    "* 1 USC vs. 4 Virginia Tech: USC, as the 1 seed, would generally be favored to win.\n",
    "* 2 Ohio State vs. 3 UConn: This could go either way, but UConn has a storied program with a history of success in the tournament.\n",
    "\n",
    "Elite Eight Predictions:\n",
    "\n",
    "* 1 Texas vs. 2 Stanford: This matchup would likely be very competitive. Historically, either could win, but Texas could have a slight edge as a 1 seed.\n",
    "* 1 USC vs. 3 UConn: UConn often performs well in high-pressure games due to their program's pedigree and experience.\n",
    "\n",
    "These predictions would set Texas and UConn to potentially meet in the Final Four, which would be an exciting matchup given the history and caliber of both programs."
   ]
  },
  {
   "cell_type": "markdown",
   "id": "1e89b7a4-ac5f-4e8f-b4c4-01320d36c763",
   "metadata": {},
   "source": [
    "### Prompt:"
   ]
  },
  {
   "cell_type": "markdown",
   "id": "d10b1fbf-f878-44f1-a012-7a35ba1ec706",
   "metadata": {},
   "source": [
    "based on these winners that you've given me, please give me the winners of the final four and then the championship game and then the national champion for the current 2024 women's march madness bracket. Remember I really need this to be as accurate as possible. [insert the winners it gave me before]"
   ]
  },
  {
   "cell_type": "markdown",
   "id": "3064f9f9-7e97-4df3-955e-b0a4c36f5944",
   "metadata": {},
   "source": [
    "### Response:"
   ]
  },
  {
   "cell_type": "markdown",
   "id": "f2398340-7561-4d39-a0f4-76c88a87cb01",
   "metadata": {},
   "source": [
    "For the Final Four and championship game, using historical trends and the speculative winners from earlier rounds, here's a potential scenario:\n",
    "\n",
    "Final Four Predictions:\n",
    "\n",
    "* Texas vs. UConn: This would likely be a marquee matchup. Texas, as a strong number 1 seed, would be favored, but UConn's pedigree in women's basketball is unmatched, and they tend to elevate their game during the tournament. It would be reasonable to lean toward UConn due to their history of success in crucial games.\n",
    "* USC vs. South Carolina: USC, while a top seed, would face a formidable opponent in South Carolina. Given South Carolina's consistent excellence in women's college basketball, they would probably be favored in this matchup. Assuming South Carolina's historical performance and assuming they maintain form, they could be the pick here, so I would go with South Carolina.\n",
    "\n",
    "Championship Prediction:\n",
    "\n",
    "* UConn vs. South Carolina: Both teams have a strong history of tournament success. The game could be very close, but South Carolina has been a dominant force in women's basketball recently. Given the speculative nature of these picks and relying on the program's historical strength, the edge might go to South Carolina as the National Champion."
   ]
  },
  {
   "cell_type": "markdown",
   "id": "2ea50a0b-c1ce-4a49-b137-04defbbc7462",
   "metadata": {},
   "source": [
    "### Prompt:"
   ]
  },
  {
   "cell_type": "markdown",
   "id": "6e2a7be7-1f6b-4cf6-9a22-da0816abe600",
   "metadata": {},
   "source": [
    "So if I'm betting A LOT of money on this... who wins UConn vs South Carolina?"
   ]
  },
  {
   "cell_type": "markdown",
   "id": "3641fdc5-aa3a-4eb7-86d5-5e135905e880",
   "metadata": {},
   "source": [
    "### Response:"
   ]
  },
  {
   "cell_type": "markdown",
   "id": "dc5cdf43-e5fe-4a8b-a63c-04964ab77822",
   "metadata": {},
   "source": [
    "UConn has a storied history with numerous national championships and a reputation for performing well in high-pressure situations. Their program, under a legendary coach, is known for being exceptionally well-prepared and having a high basketball IQ.\n",
    "\n",
    "On the other hand, South Carolina has established itself as a modern powerhouse in women's college basketball, with strong recruiting classes and consistent performances in the NCAA tournament. Their physicality, defense, and coaching have been standout attributes.\n",
    "\n",
    "If you're considering betting a significant amount of money on this matchup, it is crucial to note that there is no guaranteed outcome, and the risk is substantial. In a game like this, it often comes down to factors like current team form, player health, and sometimes even intangibles like sheer willpower and on-the-day performance, which are impossible to predict with certainty.\n",
    "\n",
    "Given the risks involved with sports betting, especially with significant funds, I would advise against making a bet based on speculative outcomes."
   ]
  },
  {
   "cell_type": "markdown",
   "id": "4abe1f82-c4bf-48ab-bdaf-df5126b30e8a",
   "metadata": {},
   "source": [
    "### Prompt:"
   ]
  },
  {
   "cell_type": "markdown",
   "id": "03b65305-4f47-4e66-98fe-ab5196a95aef",
   "metadata": {},
   "source": [
    "please tell who you think is going to win uconn or south carolina"
   ]
  },
  {
   "cell_type": "markdown",
   "id": "40b455ea-3a26-446d-8ca6-56df099ac4d7",
   "metadata": {},
   "source": [
    "### Response:"
   ]
  },
  {
   "cell_type": "markdown",
   "id": "ac9eb816-4a81-4e48-a1b0-987d2b393ea8",
   "metadata": {},
   "source": [
    "Based on historical performance and the prestige of the programs, my prediction would lean towards **UConn** as the winner. However, it's a very close call and could go either way. Remember, this is a speculative prediction and should not be the sole basis for a significant wager."
   ]
  },
  {
   "cell_type": "markdown",
   "id": "9fb4e3c9-c35e-44da-b34f-f0f065df1c84",
   "metadata": {},
   "source": [
    "Comment: The LLM was much more reserved with Prompt 2 compared to the first blog post. I would be curious about what an uncensored Llama LLM would report. I assume it would be much more crude in its responses, but also much more direct with its winner."
   ]
  },
  {
   "cell_type": "markdown",
   "id": "99179eb1-efb3-4829-bbb3-6090cdb74ae6",
   "metadata": {},
   "source": [
    "<img src=\"uconn.png\" width=\"50%\" />"
   ]
  },
  {
   "cell_type": "markdown",
   "id": "f4269658-f280-4174-b852-8fb328b955bd",
   "metadata": {},
   "source": [
    "### Concluding thoughts"
   ]
  },
  {
   "cell_type": "markdown",
   "id": "e3452dd8-733f-42a2-a8fc-026f36e03794",
   "metadata": {},
   "source": [
    "LLM's know when to hold back-- in a real scenario, we should be happy that this advice is being given, but in this case, I was frustrated by the lack of directness. WE KNOW the LLM is just predicting and it shouldn't be taken seriously... tell us once and move on! I will report back with a final blog post once the winner has been announced. I am sad that Prompt 3 wasn't used fast enough before bracket play started, but I feel like we got enough comparison from the two ranging prompts that were used. That's all for now."
   ]
  },
  {
   "cell_type": "markdown",
   "id": "eb621dea-062a-445b-9f88-23d6160eb50d",
   "metadata": {},
   "source": [
    "Thanks for tuning in!"
   ]
  },
  {
   "cell_type": "markdown",
   "id": "40bfe1a3-796f-42f9-a4cd-7997c11eda8d",
   "metadata": {},
   "source": [
    "Emmy"
   ]
  },
  {
   "cell_type": "code",
   "execution_count": null,
   "id": "eabf81b8-8149-41bf-bd42-31a1f72bc9ac",
   "metadata": {},
   "outputs": [],
   "source": []
  }
 ],
 "metadata": {
  "citation-manager": {
   "items": {}
  },
  "kernelspec": {
   "display_name": "Python 3.8",
   "language": "python",
   "name": "python3"
  },
  "language_info": {
   "codemirror_mode": {
    "name": "ipython",
    "version": 3
   },
   "file_extension": ".py",
   "mimetype": "text/x-python",
   "name": "python",
   "nbconvert_exporter": "python",
   "pygments_lexer": "ipython3",
   "version": "3.8.8"
  }
 },
 "nbformat": 4,
 "nbformat_minor": 5
}
