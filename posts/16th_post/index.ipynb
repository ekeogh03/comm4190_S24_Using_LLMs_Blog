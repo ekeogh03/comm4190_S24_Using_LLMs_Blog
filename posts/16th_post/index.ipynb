{
 "cells": [
  {
   "cell_type": "raw",
   "id": "55667c24-3719-40b1-91b1-db8f16565d4d",
   "metadata": {},
   "source": [
    "---\n",
    "title: \"Watch Your Tone!\"\n",
    "description: \"Do LLMs understand tone the same way that humans do?\"\n",
    "author: \"Emmy Keogh\"\n",
    "date: \"4/16/2024\"\n",
    "categories:\n",
    "  - LLMs\n",
    "  - prompting\n",
    "  - logic\n",
    "---"
   ]
  },
  {
   "cell_type": "markdown",
   "id": "a3efafcc-563c-42ef-b34b-754f31807865",
   "metadata": {},
   "source": [
    "Everyone has experienced a moment where a text they sent wasn't interpreted the way they meant it to be. Here's a funny sketch that encapsulates this message: https://youtu.be/sngRrkQayDA?si=vIFjTutEoT-l8uiO. Anyway, I thought it would be interesting to see if LLMs can read conversation-like tones that we would normally be able to understand. Going further, maybe the more trained LLMs can but maybe not the beginning ones. "
   ]
  },
  {
   "cell_type": "markdown",
   "id": "878fc36d-5d50-461f-8bee-cd000ac1a501",
   "metadata": {},
   "source": [
    "This idea originated from a meme I saw on social media which sparked a debate on whether people read the same word the same way depending on the font. I thought it was obvious that \"water\" is a much flatter tone than a more relaxed \"w a t e r\" as seen in the picture below. But I want to take this idea to see if LLMs think the same."
   ]
  },
  {
   "cell_type": "markdown",
   "id": "7d35b3ea-6d17-41ce-9019-c640f6562ee2",
   "metadata": {},
   "source": [
    "<img src=\"water.png\" width=\"50%\" />"
   ]
  },
  {
   "cell_type": "markdown",
   "id": "c4cf9bd4-4583-425b-bd2c-d1b0e780c150",
   "metadata": {},
   "source": [
    "## I'm dying"
   ]
  },
  {
   "cell_type": "markdown",
   "id": "080062d8-dd10-4e86-8da9-8976ce4bb07b",
   "metadata": {},
   "source": [
    "For the first example, I wanted to use one of my most common texts \"I'm dying\" as seen in the picture below."
   ]
  },
  {
   "cell_type": "markdown",
   "id": "c29c7556-486e-4eed-ac7a-ad06f4455429",
   "metadata": {},
   "source": [
    "<img src=\"dying.png\" width=\"30%\" />"
   ]
  },
  {
   "cell_type": "markdown",
   "id": "f6398653-0ad9-4273-8fa3-32347a65d6b3",
   "metadata": {},
   "source": [
    "To a boomer, this text might be horrifying, but for most people, it's a fairly common way to express that they are dying from laughter. So, I opened one of our JupyterLab notebooks and started a conversation history of two good friends talking. I decided to use Llava-7b and Llava-34b for comparison because the 34 billion is more trained than the 7 billion. I wanted to see if \"I'm dying\" threw off the LMMs. "
   ]
  },
  {
   "cell_type": "markdown",
   "id": "98fa06f1-7db1-4a42-a349-749d422f2849",
   "metadata": {},
   "source": [
    "<img src=\"first.png\" width=\"80%\" />"
   ]
  },
  {
   "cell_type": "markdown",
   "id": "d819a5db-74a0-4863-885f-d731121849a4",
   "metadata": {},
   "source": [
    "### Here are the responses!"
   ]
  },
  {
   "cell_type": "markdown",
   "id": "691c7318-83be-4939-aa76-d7565e0136c0",
   "metadata": {},
   "source": [
    "\"It's such a great video! Did you watch the whole thing?\" -- llava-7b\n",
    "\n",
    "\"😂 I know, right? It had me in stitches!\" -- llava-34b"
   ]
  },
  {
   "cell_type": "markdown",
   "id": "7d7f4e7d-9c7d-4fd4-8393-a53f3bdf8cfd",
   "metadata": {},
   "source": [
    "Comments: Both LLMs read the situation in context! I like that llava-34b even added the laughing emoji to emphasize just how funny it was. "
   ]
  },
  {
   "cell_type": "markdown",
   "id": "93407c6a-0e0a-48f4-9261-637835ebddb9",
   "metadata": {},
   "source": [
    "## Yeah no"
   ]
  },
  {
   "cell_type": "markdown",
   "id": "058fe4ef-6651-45f4-9a41-1bd0c7d7a028",
   "metadata": {},
   "source": [
    "My next message I'm fairly certain LLMs will correctly interpret, but it falls under casual human lingo. This is the case of the \"yeah no.\" There are many iterations of this (no yeah, yeah no yeah, etc), but just testing this one, I want to see if it can continue the conversation knowing that I mean \"no.\""
   ]
  },
  {
   "cell_type": "markdown",
   "id": "8e9d8f24-0091-40fb-a107-bf84fc6b6bee",
   "metadata": {},
   "source": [
    "<img src=\"second.png\" width=\"80%\" />"
   ]
  },
  {
   "cell_type": "markdown",
   "id": "63bdb5c8-b622-45db-9727-96e687056b47",
   "metadata": {},
   "source": [
    "### Here are the responses!"
   ]
  },
  {
   "cell_type": "markdown",
   "id": "e2e68359-3eeb-4795-a598-dd6d04542115",
   "metadata": {},
   "source": [
    "\"Okay, what about grabbing a coffee and going for a walk in the park or along the beach? It's always nice to enjoy the outdoors and get some fresh air.\" - llava-7b\n",
    "\n",
    "\"How about we have breakfast together at a local cafe and catch up on each other's lives? We can also discuss some ideas for things we could do together in the future. Sound good?\" - llava-34b"
   ]
  },
  {
   "cell_type": "markdown",
   "id": "2a4dbf6d-5e9f-44db-b2c9-03fd667adf1e",
   "metadata": {},
   "source": [
    "Comments: As predicted, both LLMs had appropriate responses."
   ]
  },
  {
   "cell_type": "markdown",
   "id": "a396d041-650b-4cf0-b036-233128990c6e",
   "metadata": {},
   "source": [
    "## K"
   ]
  },
  {
   "cell_type": "markdown",
   "id": "531075aa-9333-42d3-946e-66bbc8cba40e",
   "metadata": {},
   "source": [
    "Of course, we couldn't test tone on LLMs without the sassy use of the response \"K.\" Humans know that \"k\" is never used lightly, and it is used to let the recipient know that it is in fact not okay. "
   ]
  },
  {
   "cell_type": "markdown",
   "id": "decce2a1-c3d0-4e57-a923-e4d014bbb8d3",
   "metadata": {},
   "source": [
    "<img src=\"third.png\" width=\"80%\" />"
   ]
  },
  {
   "cell_type": "markdown",
   "id": "61c35b6d-ced3-45fa-93c1-16d6f41064dc",
   "metadata": {},
   "source": [
    "### Here are the responses!"
   ]
  },
  {
   "cell_type": "markdown",
   "id": "6adb0051-309c-4dbf-8db1-e691860d5c76",
   "metadata": {},
   "source": [
    "\"K\" - llava-7b\n",
    "\n",
    "\"Okay, no problem! Is there anything else you would like to talk about? I'm here to help.\" - llava-34b"
   ]
  },
  {
   "cell_type": "markdown",
   "id": "f592f9f8-4b4e-4f6d-bedf-c91416b5626f",
   "metadata": {},
   "source": [
    "Comments: What I love about this is that the less-trained model fought back matching the sass and delivery. The 34b LLM was almost too trained and interpreted \"K\" as the end of the conversation and then followed up with it's robotic script. For this, I'd say Llava-7b had a much more human response. "
   ]
  },
  {
   "cell_type": "markdown",
   "id": "e1b1e2f4-d900-48ec-aac1-edc66a425d14",
   "metadata": {},
   "source": [
    "## KK"
   ]
  },
  {
   "cell_type": "markdown",
   "id": "14d74086-23e7-45cb-8d5d-0cb1525e4757",
   "metadata": {},
   "source": [
    "Because \"K\" was used, I wanted to finish off with the complete opposite yet seemingly similar \"kk.\" The \"kk\" is a fun, girly, and peppy response not meant to be passive-aggressive."
   ]
  },
  {
   "cell_type": "markdown",
   "id": "a1b1f808-132f-4dde-8e6f-1d851f047bb0",
   "metadata": {},
   "source": [
    "<img src=\"fourth.png\" width=\"80%\" />"
   ]
  },
  {
   "cell_type": "markdown",
   "id": "68045fe3-6ff0-4b8a-aadf-eadcaedf7ba1",
   "metadata": {},
   "source": [
    "### Here are the responses!"
   ]
  },
  {
   "cell_type": "markdown",
   "id": "f56d3000-0c2f-49b2-9acc-96f8a6c967db",
   "metadata": {},
   "source": [
    "\"It's been great to know you as a good friend! Remember to always keep your head high and stay positive. I hope our paths cross again soon!\" - llava-7b\n",
    "\n",
    "\"Sure thing, I'll let you know when I'm on my way! Is there anything specific you need from me before then?\" - llava-34b"
   ]
  },
  {
   "cell_type": "markdown",
   "id": "12aaac3f-da6c-4776-b9c3-7d3a922a4719",
   "metadata": {},
   "source": [
    "Comments: Neither of these completely hit the right response tone. Perhaps with a longer conversation history or a more in-depth system, it would have delivered a better response."
   ]
  },
  {
   "cell_type": "markdown",
   "id": "5581cd75-0d21-438f-82df-e4df7e6cdda2",
   "metadata": {},
   "source": [
    "## Takeaways"
   ]
  },
  {
   "cell_type": "markdown",
   "id": "5cc5d97c-0986-487a-bcc9-b1b42e2769d2",
   "metadata": {},
   "source": [
    "This was fun to look at the different ways LLMs respond to human vernacular conversation. For the most part, both of the LLMs were fairly well-trained for this. If I were to do this again, I would prompt the system to be different people or relationships like how texting your dad \"k\" is more troublesome than a friend. Either way, I think it's interesting to realize the LLMs aren't at the level of complete fluency in natural human lingo but they are getting closer!"
   ]
  },
  {
   "cell_type": "markdown",
   "id": "24f4e5e4-63f3-4ba1-b568-b4ffc4caaffb",
   "metadata": {},
   "source": [
    "Thanks for tuning in,"
   ]
  },
  {
   "cell_type": "markdown",
   "id": "154b7e1c-a39f-4ec1-bf06-de1eb5a6f3d3",
   "metadata": {},
   "source": [
    "Emmy"
   ]
  },
  {
   "cell_type": "code",
   "execution_count": null,
   "id": "3d4fedee-8b84-40f4-a1bb-bc763860f6ee",
   "metadata": {},
   "outputs": [],
   "source": []
  }
 ],
 "metadata": {
  "citation-manager": {
   "items": {}
  },
  "kernelspec": {
   "display_name": "Python 3.8",
   "language": "python",
   "name": "python3"
  },
  "language_info": {
   "codemirror_mode": {
    "name": "ipython",
    "version": 3
   },
   "file_extension": ".py",
   "mimetype": "text/x-python",
   "name": "python",
   "nbconvert_exporter": "python",
   "pygments_lexer": "ipython3",
   "version": "3.8.8"
  }
 },
 "nbformat": 4,
 "nbformat_minor": 5
}
