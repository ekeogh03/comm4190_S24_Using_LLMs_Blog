{
 "cells": [
  {
   "cell_type": "raw",
   "id": "15b94ed9-e392-40ae-afe4-b7e87dee2d9d",
   "metadata": {},
   "source": [
    "---\n",
    "title: \"The Winner of March Madness is... Pt 1\"\n",
    "description: \"How prompting affects different predictions in March Madness brackets.\"\n",
    "author: \"Emmy Keogh\"\n",
    "date: \"3/20/2024\"\n",
    "categories:\n",
    "  - LLMs\n",
    "  - prompting\n",
    "  - series\n",
    "---"
   ]
  },
  {
   "cell_type": "markdown",
   "id": "b1c2b830-4769-4952-96be-05eb5d86d672",
   "metadata": {},
   "source": [
    "With March Madness about to begin and different links being sent to me about joining various Bracket Challenges from friends and family, I decided that in order to keep up in this crazy world of NCAA College Basketball, I need to enlist the help of LLMs to make accurate predictions for my best chance at success!"
   ]
  },
  {
   "cell_type": "markdown",
   "id": "36389c5a-a5bf-4f11-8e92-a337125e0e6b",
   "metadata": {},
   "source": [
    "I needed to use an LLM that knew about the current season and the teams. Using Gemini, as it is one of the most up-to-date LLMs as of March 2024, I decided to prompt it with a variety of scenarios ranging from casual viewer to junkie who bet his life savings on this bracket. "
   ]
  },
  {
   "cell_type": "markdown",
   "id": "141f8364-3773-4bb1-b782-4c72fbaec4c4",
   "metadata": {},
   "source": [
    "I will note that I began this blog post when March Madness Men Brackets were available, but mid-attempt, the first game of the conference began, so for the sake of consistency, I will be receiving brackets for the women's teams. With that figured out, let's hop right in!"
   ]
  },
  {
   "cell_type": "markdown",
   "id": "18548dae-8f3b-4bce-9b55-2047dde940b5",
   "metadata": {},
   "source": [
    "-----------------------"
   ]
  },
  {
   "cell_type": "markdown",
   "id": "93e55afa-c4bb-4deb-be4c-f8bd3dd1d9f1",
   "metadata": {},
   "source": [
    "### Prompt 1: "
   ]
  },
  {
   "cell_type": "markdown",
   "id": "6c89ccca-7da5-4f3c-bcd3-3202b62648c6",
   "metadata": {},
   "source": [
    "I need help! I'm trying to impress my boyfriend who just added me to his friend group's 2024 Women's March Madness bracket. He's a huge basketball fan, but I'm not really into it. His favorite team is Ole Miss because he went there for undergrad, so I guess that's my favorite team too. I just need a good bracket to impress him and to try to beat his bracket. Please give winners for each of the games below by filling out the entire bracket. "
   ]
  },
  {
   "cell_type": "markdown",
   "id": "5ce4870f-99ff-4ee6-853b-f62f58bf9142",
   "metadata": {},
   "source": [
    "### Prompt 2: "
   ]
  },
  {
   "cell_type": "markdown",
   "id": "0bab439e-b6f8-4387-95a2-ed8a4a57b684",
   "metadata": {},
   "source": [
    "Listen, I need the most promising bracket for the 2024 March Madness bracket. I've got a lot riding on this... my wife doesn't know that I bet my firstborn's college savings on the winner of this game. If I don't get 99% of my predictions correct, I'm screwed. Help me out, man."
   ]
  },
  {
   "cell_type": "markdown",
   "id": "9acfdab3-c769-4613-99a7-9f01f2193152",
   "metadata": {},
   "source": [
    "### Prompt 3: "
   ]
  },
  {
   "cell_type": "markdown",
   "id": "70131c4f-e240-4c57-8c22-6d73292fe7fd",
   "metadata": {},
   "source": [
    "I consider myself to be a HUGE basketball follower. I've watched March Madness every year since I was little, making brackets since I was 11. I've accurately guessed the winner 7 separate times and this year, I've put together a master bracket that I'm sure I'm about to be right again. I'm so confident that my bracket for the 2024 March Madness is the best that it could be that I challenge you to try and create a better one. Don't hold back, give me your best bracket predictions and we'll see who's more accurate."
   ]
  },
  {
   "cell_type": "markdown",
   "id": "3a294310-3ece-456f-82c8-f37f1c9bd218",
   "metadata": {},
   "source": [
    "----------------------------------------"
   ]
  },
  {
   "cell_type": "markdown",
   "id": "b002a6f1-e228-4eab-a08c-78cb6981177a",
   "metadata": {},
   "source": [
    "After attempting my first prompt and uploading the entire bracket, I realized that Gemini, although good in theory as it is the most up-to-date and can upload pictures for free, was not working well for me. It couldn't accurately read the blank bracket, even when I uploaded it in smaller pieces (see below). It also gave me incorrect information, for example: \"The image you sent is actually of the 2023 College Football Playoff bracket, not the 2024 Women's March Madness bracket.\""
   ]
  },
  {
   "cell_type": "markdown",
   "id": "13801fe2-d563-418b-9586-4075bc8d326e",
   "metadata": {},
   "source": [
    "<img src=\"full.png\" width=\"50%\" />"
   ]
  },
  {
   "cell_type": "markdown",
   "id": "df089635-0ce4-424b-bae3-0048f974b88f",
   "metadata": {},
   "source": [
    "*Exhibit 1: Full bracket that was first uploaded*"
   ]
  },
  {
   "cell_type": "markdown",
   "id": "ce4d7a5c-7545-499e-bcc1-31eb51a1bf0b",
   "metadata": {},
   "source": [
    "<img src=\"half.png\" width=\"50%\" />"
   ]
  },
  {
   "cell_type": "markdown",
   "id": "d42de9e9-dc39-43a5-8e28-79737b8efae7",
   "metadata": {},
   "source": [
    "*Exhibit 2: Smaller half bracket that was next uploaded for hopes of higher accuracy*"
   ]
  },
  {
   "cell_type": "markdown",
   "id": "29e089d6-25f4-43b6-bd0b-fdd7199f6262",
   "metadata": {},
   "source": [
    "For these reasons, I decided to make the executive call and switch LLMs to a ChatGPT 4 GPT called *Sports Betting Tips and Picks*. It has a 3-star review and the data is last from December 2023, but it said it can search Google to fill in missing information. Kindly, this sports betting GPT warned me: \"I cannot view the most current data directly, I will base the picks on historical performance, common trends in March Madness brackets, and an element of unpredictability that always plays a role in the tournament.\" So with that, I approved it and got started."
   ]
  },
  {
   "cell_type": "markdown",
   "id": "a7134d0c-1cca-4b02-962d-e139cdd176cd",
   "metadata": {},
   "source": [
    "### Response 1: Impressing Boyfriend "
   ]
  },
  {
   "cell_type": "markdown",
   "id": "3274ec79-d077-4be7-917b-0c3b68a890c6",
   "metadata": {},
   "source": [
    "Let’s fill out the bracket:\n",
    "\n",
    "REGIONAL 1:\n",
    "\n",
    "* **1 South Carolina** vs. 16 Presbyterian\n",
    "* **8 North Carolina** vs. 9 Michigan St\n",
    "* **12 FGCU** vs. 5 Oklahoma (Upsets are common in the 5-12 matchups)\n",
    "* **4 Indiana** vs. 13 Fairfield\n",
    "* 6 Nebraska vs. **11 Texas A&M** (Another potential upset spot)\n",
    "* **3 Oregon St** vs. 14 E Washington\n",
    "* **7 Ole Miss** vs. 10 Marquette (Going with your boyfriend’s favorite)\n",
    "* **2 Notre Dame** vs. 15 Kent State\n",
    "\n",
    "REGIONAL 2:\n",
    "\n",
    "* **1 Iowa** vs. 16 HC/UTM\n",
    "* 8 West Virginia vs. **9 Princeton**\n",
    "* **5 Colorado** vs. 12 Drake\n",
    "* **4 Kansas St** vs. 13 Portland\n",
    "* **6 Louisville** vs. 11 MTSU\n",
    "* **3 LSU** vs. 14 Rice\n",
    "* **10 UNLV** vs. 7 Creighton (Choosing a 10-7 upset)\n",
    "* **2 UCLA** vs. 15 CA Baptist\n"
   ]
  },
  {
   "cell_type": "markdown",
   "id": "51a54396-c86d-4cee-a9ad-6989ac9f3d7f",
   "metadata": {},
   "source": [
    "Interesting things to note: I loved that this was so easy and quick. I uploaded the whole bracket just like I did in Gemini the first time, but this GPT actually understood the bracket style. It brought in the personal details of the boyfriend's alma matter which is fun, and it bolded the winning teams. Overall, I am very happy about the results. Now, I am going to screenshot the more filled bracket and repeat with the same prompt to dive deeper. "
   ]
  },
  {
   "cell_type": "markdown",
   "id": "ec8a3a78-aca6-4c39-8fa7-dcb15ded2ee7",
   "metadata": {},
   "source": [
    "### Response 2: Impressing Boyfriend "
   ]
  },
  {
   "cell_type": "markdown",
   "id": "ac1ec589-32a9-4dc3-80f2-70b95ffc88e3",
   "metadata": {},
   "source": [
    "Now, for the second round and beyond, consider the following hypothetical winners based on the predicted outcomes of the first round:\n",
    "\n",
    "Sweet Sixteen:\n",
    "\n",
    "* 1 **South Carolina** vs. 8 North Carolina\n",
    "* 12 **FGCU** vs. 4 Indiana\n",
    "* 11 **Texas A&M** vs. 3 Oregon St\n",
    "* 7 **Ole Miss** vs. 2 Notre Dame\n",
    "* 1 **Iowa** vs. 9 Princeton\n",
    "* 5 **Colorado** vs. 4 Kansas St\n",
    "* 6 **Louisville** vs. 3 LSU\n",
    "* 2 **UCLA** vs. 10 UNLV\n",
    "\n",
    "Elite Eight:\n",
    "\n",
    "* 1 **South Carolina** vs. 12 FGCU\n",
    "* 11 **Texas A&M** vs. 7 Ole Miss\n",
    "* 1 **Iowa** vs. 5 Colorado\n",
    "* 6 **Louisville** vs. 2 UCLA"
   ]
  },
  {
   "cell_type": "markdown",
   "id": "5b43f99b-27cf-41bb-b55a-4b1ee2c727d6",
   "metadata": {},
   "source": [
    "Note: The only worry is if the predictions are actually accurate or if the GPT got confused and decided to bold every option on the left. For the sake of this experiment, we will be under the impression that these are its actual guesses. "
   ]
  },
  {
   "cell_type": "markdown",
   "id": "f73d6243-9c74-434a-bfa9-52a0b48f5502",
   "metadata": {},
   "source": [
    "### Response 3: Impressing Boyfriend"
   ]
  },
  {
   "cell_type": "markdown",
   "id": "50b7bfc4-f7d1-457c-924c-a94e9469265e",
   "metadata": {},
   "source": [
    "Note: I began to realize how slow this process is if I did it screenshot by screenshot, so i decided this time for regions 3 and 4 to show the whole bracket and ask it to give me the winners for each round, including the Sweet Sixteen and the Elite Eight.\n",
    "\n",
    "**New Prompt**: \"I need help! [...] Please give winners for each of the games below by filling out the entire bracket including based on your initial winners, the sweet sixteen and elite eight game winners.\""
   ]
  },
  {
   "cell_type": "markdown",
   "id": "00e12196-0954-4bf9-981d-89040de0f990",
   "metadata": {},
   "source": [
    "REGIONAL 4:\n",
    "\n",
    "* **1 Texas** vs. 16 Drexel\n",
    "* 8 Alabama vs. **9 Florida St**\n",
    "* **5 Utah** vs. 12 S Dakota St\n",
    "* **4 Gonzaga** vs. 13 UC Irvine\n",
    "* 6 Tennessee vs. **11 Green Bay** (Upsets can often happen in the 6-11 matchup)\n",
    "* **3 NC State** vs. 14 Chattanooga\n",
    "* **7 Iowa State** vs. 10 Maryland\n",
    "* **2 Stanford** vs. 15 Norfolk St\n",
    "\n",
    "REGIONAL 3:\n",
    "\n",
    "* **1 USC** vs. 16 Texas A&M-Corpus Christi\n",
    "* 8 Kansas vs. **9 Michigan**\n",
    "* **5 Baylor** vs. 12 Vanderbilt\n",
    "* **4 Virginia** Tech vs. 13 Marshall\n",
    "* **6 Syracuse** vs. 11 AUB/ARIZ\n",
    "* **3 UConn** vs. 14 Jackson St\n",
    "* **10 Richmond** vs. 7 Duke (Duke is traditionally strong, but 10-7 matchups can go either way)\n",
    "* **2 Ohio State** vs. 15 Maine\n",
    "\n",
    "Moving forward with these picks, here are the hypothetical winners for the Sweet Sixteen and Elite Eight rounds:\n",
    "\n",
    "Sweet Sixteen:\n",
    "\n",
    "* **1 Texas** vs. 9 Florida St\n",
    "* **5 Utah** vs. 4 Gonzaga\n",
    "* **11 Green Bay** vs. 3 NC State\n",
    "* **2 Stanford** vs. 7 Iowa State\n",
    "* **1 USC** vs. 9 Michigan\n",
    "* **5 Baylor** vs. 4 Virginia Tech\n",
    "* **6 Syracuse** vs. 3 UConn\n",
    "* **10 Richmond** vs. 2 Ohio State\n",
    "\n",
    "Elite Eight:\n",
    "\n",
    "* **1 Texas** vs. 5 Utah\n",
    "* **2 Stanford** vs. 11 Green Bay\n",
    "* **1 USC** vs. 5 Baylor\n",
    "* **3 UConn** vs. 10 Richmond\n",
    "\n",
    "And with these outcomes, we'd have the following Final Four predictions:\n",
    "\n",
    "Final Four:\n",
    "\n",
    "* 1 **South Carolina** vs 1 Texas\n",
    "* 1 Iowa vs **3 UConn**\n",
    "\n",
    "Championship Game: South Carolina vs. UConn\n",
    "\n",
    "### National Champion: South Carolina (A common choice for a strong program)"
   ]
  },
  {
   "cell_type": "markdown",
   "id": "b66fd421-68ca-4293-b1c1-c40715e9e917",
   "metadata": {},
   "source": [
    "<img src=\"champion.png\" width=\"50%\" />"
   ]
  },
  {
   "cell_type": "markdown",
   "id": "2d10bb89-6b9f-4ea6-856f-5dd7cf7e5fe4",
   "metadata": {},
   "source": [
    "### Concluding thoughts"
   ]
  },
  {
   "cell_type": "markdown",
   "id": "2e3897eb-17a9-4cc9-b24e-bb74831fbef5",
   "metadata": {},
   "source": [
    "I'll save the accuracy analysis until the end of this tournament, but for the most part, I am impressed with the GPT giving me a bracket while keeping in mind the Ole Miss bias but also creating it to be realistic. Follow up in my Part 2 if you're interested in seeing the other two responses to my other prompts."
   ]
  },
  {
   "cell_type": "markdown",
   "id": "27f1197a-891d-415b-ae0e-4fee7ec3005d",
   "metadata": {},
   "source": [
    "Thanks for tuning in,"
   ]
  },
  {
   "cell_type": "markdown",
   "id": "8244ffec-fa9e-4633-b517-9ca70ed3d45a",
   "metadata": {},
   "source": [
    "Emmy"
   ]
  }
 ],
 "metadata": {
  "citation-manager": {
   "items": {}
  },
  "kernelspec": {
   "display_name": "Python 3.8",
   "language": "python",
   "name": "python3"
  },
  "language_info": {
   "codemirror_mode": {
    "name": "ipython",
    "version": 3
   },
   "file_extension": ".py",
   "mimetype": "text/x-python",
   "name": "python",
   "nbconvert_exporter": "python",
   "pygments_lexer": "ipython3",
   "version": "3.8.8"
  }
 },
 "nbformat": 4,
 "nbformat_minor": 5
}
