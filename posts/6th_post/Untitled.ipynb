{
 "cells": [
  {
   "cell_type": "raw",
   "id": "c7e3d6e0-c843-41f1-bd4e-fa4f1b8ba05b",
   "metadata": {},
   "source": [
    "---\n",
    "title: \"Spoiler Alert: Leave it to Humans!\"\n",
    "description: \"Two LLMs battle it out to see which one can write the better SNL skit.\"\n",
    "author: \"Emmy Keogh\"\n",
    "date: \"2/25/2024\"\n",
    "categories:\n",
    "  - LLMs\n",
    "  - prompting\n",
    "  - creative\n",
    "---"
   ]
  },
  {
   "cell_type": "markdown",
   "id": "19f233a3-abe7-4ce9-ba9d-1364a8c0f650",
   "metadata": {},
   "source": [
    "### I'm in a bit of an SNL phase right now. And, you know what, I'm not mad about it."
   ]
  },
  {
   "cell_type": "markdown",
   "id": "0c982826-582c-4475-9875-eeaf2022fbb5",
   "metadata": {},
   "source": [
    "The problem I find though is that the show is only broadcast once a week, hence the *Saturday* in Saturday Night Live. And with all the breaks that the show takes, like their winter and summer months long hiatuses, I am left to rewatch the same clips from youtube over and over again. "
   ]
  },
  {
   "cell_type": "markdown",
   "id": "c3c8d03c-020e-4668-9985-7483dcf6676c",
   "metadata": {},
   "source": [
    "And what's even worse is my favorite cast is part of a season that came out when I was just 2 years old. So it's not like I have new content from the fan-favorite cast of Season 31, including Bill Hader, Seth Meyers, Fred Armisten, Andy Samberg\n",
    "Jason Sudeikis, and Kristen Wiig.  "
   ]
  },
  {
   "cell_type": "markdown",
   "id": "a20ffea4-f0a7-454a-a3b7-ccb9b65326c1",
   "metadata": {},
   "source": [
    "My solution? Create it myself! But I didn't want to just throw a prompt into ChatGPT and hope for the best. Through a ChatBot Arena, I challenged Llama 2 (Open foundation and fine-tuned chat models by Meta) and DeepSeek LLM (An advanced language model by DeepSeek) to see which one could come up with the most realistic and entertaining SNL Stefon skit. "
   ]
  },
  {
   "cell_type": "markdown",
   "id": "7c8954d9-cae4-4ed0-ac03-638c6fb08c25",
   "metadata": {},
   "source": [
    "<img src=\"stefon.png\" width=\"50%\" />"
   ]
  },
  {
   "cell_type": "markdown",
   "id": "80347674-9435-4b13-b195-07429acb8262",
   "metadata": {},
   "source": [
    "#### *Don't* know Stefon? "
   ]
  },
  {
   "cell_type": "markdown",
   "id": "1b9b880b-d1f8-4cd9-a733-b4d356cfffef",
   "metadata": {},
   "source": [
    "[Please click this to understand his specific humor and catchphrases.](https://youtu.be/NctoAyRDtzU?si=z9egpnPp_TNqrVuR)"
   ]
  },
  {
   "cell_type": "markdown",
   "id": "6e3847c9-466b-443f-9973-f8dd0b44c8b9",
   "metadata": {},
   "source": [
    "According to Saturday Night Live Wiki, Stefon's catchphrases are \n",
    "- \"New York's hottest club is...\"\n",
    "- \"Yes, yes, yes!\"\n",
    "- \"If you're...look no further.\"\n",
    "- \"This place has everything:...\""
   ]
  },
  {
   "cell_type": "markdown",
   "id": "5956a30e-ca3d-4020-8ab7-4039fa32586d",
   "metadata": {},
   "source": [
    "When deciding which skit is most realistic I will take into account the use of his notable sayings, but in the end, the better script will come down to the understanding of comedic timing and absurd humor. To give the LLMs context, I prompted them with a few preparatory questions. "
   ]
  },
  {
   "cell_type": "markdown",
   "id": "4bd57f92-74be-4243-9705-230691577ab4",
   "metadata": {},
   "source": [
    "### Prompt: do you know what snl is?"
   ]
  },
  {
   "cell_type": "markdown",
   "id": "3b5f9d95-e72f-42bd-90fd-735ba03a4c7a",
   "metadata": {},
   "source": [
    "**Llama:** Yes, I do! SNL stands for Saturday Night Live, which is a late-night sketch comedy and variety show that airs on NBC in the United States. The show has been on the air since 1975 and has become a cultural phenomenon, known for its irreverent humor, satire, and parodies of current events, politics, and popular culture.\n",
    "\n",
    "The show is hosted by a rotating cast of comedians, who appear in sketches and other segments throughout the episode. The show also features musical guests, who perform songs and other musical numbers.\n",
    "\n",
    "SNL has launched the careers of many famous comedians and actors, including John Belushi, Bill Murray, Chevy Chase, Eddie Murphy, Chris Farley, Will Ferrell, Tina Fey, Amy Poehler, and Kate McKinnon, among many others. The show has won numerous awards, including Emmys and Golden Globes, and has been widely influential in shaping American popular culture."
   ]
  },
  {
   "cell_type": "markdown",
   "id": "b0b6e63f-60ab-4534-bd05-456e548877f4",
   "metadata": {},
   "source": [
    "**DeepSeek:** Yes, I am familiar with SNL. SNL is an acronym that can stand for several different things, depending on the context in which it is used. Here are a few possible meanings of SNL:\n",
    "\n",
    "1. Saturday Night Live: This is a popular American late-night television sketch comedy and variety show that has been airing on NBC since 1975. The show features a variety of skits, parodies, and musical performances, and has been known for launching the careers of many famous comedians and actors.\n",
    "2. Saturday Night Live (UK): This is a British television show that is based on the American SNL format. It aired on ITV from 2010 to 2011 and featured a mix of sketches, stand-up comedy, and musical performances.\n",
    "3. Saturday Night Live (Philippines): This is a Philippine television show that is also based on the American SNL format. It aired on GMA Network from 2003 to 2008 and was known for its comedy sketches and celebrity guests.\n",
    "4. Saturday Night Live (Australia): This is an Australian television show that is based on the American SNL format. It aired on the Seven Network from 2012 to 2013 and featured a mix of comedy sketches, celebrity guests, and musical performances.\n",
    "\n",
    "In general, SNL is a comedy show that is known for its irreverent humor, political satire, and memorable characters."
   ]
  },
  {
   "cell_type": "markdown",
   "id": "993f6e67-686b-4013-b239-245c046373f7",
   "metadata": {},
   "source": [
    "#### Off the bat, I think that Llama is going to deliver a funnier sketch. It was to the point, not repetitive, and only included relevant details. DeepSeek on the other hand does not seem to have had enough fine tuning as the answer was very \"botty\" and not so human-like. I'm afraid of the weak jokes it will deliver. "
   ]
  },
  {
   "cell_type": "markdown",
   "id": "09c2a6f7-f8a0-4f89-9c5e-34bdea5f7d73",
   "metadata": {},
   "source": [
    "### Prompt: how would you describe SNL's humor?"
   ]
  },
  {
   "cell_type": "markdown",
   "id": "eeaaadbe-2174-4172-a3ad-838fec17645a",
   "metadata": {},
   "source": [
    "**Llama:** Saturday Night Live (SNL) is known for its irreverent and often absurdist humor, which can be difficult to pin down or describe. However, here are some key elements that contribute to the show's humor:\n",
    "\n",
    "1. Satire and Parody: SNL frequently uses satire and parody to poke fun at current events, politics, and popular culture. Sketches often exaggerate or distort real-life situations for comedic effect.\n",
    "2. Quick-witted Writing: The show's writers are known for their fast-paced, clever, and often absurd dialogue. Characters and sketches often feature sudden, unexpected twists and turns, keeping the audience on their toes.\n",
    "3. Physical Comedy: SNL has a long history of incorporating physical comedy into its sketches, from slapstick to more subtle, nuanced performances.\n",
    "4. Pop Culture References: The show frequently references and parodies popular culture, including movies, TV shows, music, and celebrities.\n",
    "5. Improvisation: SNL is known for its improvisational elements, with many sketches featuring unscripted moments and ad-libbed lines. This adds an extra layer of unpredictability and humor to the show.\n",
    "6. Political Humor: SNL has always been known for its political humor, often tackling controversial topics and figures in its sketches.\n",
    "7. Character-Driven Humor: Many of SNL's sketches revolve around specific characters or archetypes, such as the \"Weekend Update\" anchors, the \"Coneheads,\" or the \"Schweddy Balls\" sketch. These characters often become fan favorites and are revisited throughout the show's history.\n",
    "8. Celebrity Guests: SNL frequently features celebrity guests, who often play themselves or appear in sketches alongside the regular cast members. These appearances can add an extra layer of humor and surprise to the show."
   ]
  },
  {
   "cell_type": "markdown",
   "id": "09941800-4ab2-4154-9199-18261177a23c",
   "metadata": {},
   "source": [
    "**DeepSeek:** SNL's humor is characterized by its irreverent, satirical, and topical nature. The show often uses humor to comment on current events, politics, and popular culture, and it frequently features sketches that parody famous people, movies, TV shows, and other cultural touchstones.\n",
    "\n",
    "SNL's humor is often characterized by its use of absurdity, exaggeration, and irony, and it frequently features characters and situations that are over-the-top and exaggerated for comedic effect. The show is also known for its use of improvisation, which allows the cast to be spontaneous and creative in their performances.\n",
    "\n",
    "Overall, SNL's humor is often described as irreverent, satirical, and topical, and it appeals to audiences who appreciate intelligent and witty comedy that can both entertain and comment on contemporary issues."
   ]
  },
  {
   "cell_type": "markdown",
   "id": "8b09a929-45a9-4184-9862-71059a1e41de",
   "metadata": {},
   "source": [
    "#### Again, DeepSeek continued to repeat itself (i.e. \"irreverent, satirical, and topical\"), while Llama delivered me an organized list of correct details. Now, I wanted to make sure they were going to use the correct cast members, so I verified that they knew the cast of Season 31."
   ]
  },
  {
   "cell_type": "markdown",
   "id": "845cb7bd-eca8-4402-beb3-a66c60922563",
   "metadata": {},
   "source": [
    "### Prompt: who was in the cast for season 31 of snl?"
   ]
  },
  {
   "cell_type": "markdown",
   "id": "d2a06088-d41c-49d0-96a6-22edf24e71fb",
   "metadata": {},
   "source": [
    "**Llama:** Season 31 of Saturday Night Live (SNL) premiered on October 3, 2004, and featured a talented cast of actors, comedians, and impressionists. Here's a list of the cast members for Season 31 of SNL:\n",
    "\n",
    "1. Fred Armisen\n",
    "2. Will Forte\n",
    "3. Bill Hader\n",
    "4. Seth Meyers\n",
    "5. Amy Poehler\n",
    "6. Maya Rudolph\n",
    "7. Andy Samberg\n",
    "8. Jason Sudeikis\n",
    "9. Kenan Thompson\n",
    "10. Kristen Wiig\n",
    "\n",
    "This season also featured several guest hosts and musical guests, including:\n",
    "\n",
    "* Hosts: Alec Baldwin, Ben Stiller, Chris Rock, David Spade, John Goodman, Josh Hartnett, Justin Timberlake, Kevin Spacey, Michael Bay, Peyton Manning, Robert De Niro, Sarah Jessica Parker, and Tim McGraw.\n",
    "* Musical guests: 50 Cent, Alicia Keys, Arcade Fire, Ashlee Simpson, Avril Lavigne, Beyoncé, Brandy, Eminem, Gwen Stefani, John Mayer, Kanye West, Mariah Carey, OutKast, R.E.M., Red Hot Chili Peppers, Rihanna, Snoop Dogg, and Usher.\n",
    "\n",
    "Season 31 of SNL was notable for several reasons, including the addition of new cast members Bill Hader and Andy Samberg, who would go on to become fan favorites and long-time cast members. The season also featured several memorable moments, such as the \"More Cowbell\" sketch with Will Ferrell and Christopher Walken, and the \"United Way\" sketch with Andy Samberg and Ashton Kutcher."
   ]
  },
  {
   "cell_type": "markdown",
   "id": "c55b1c99-36e6-464d-9785-390665fd939d",
   "metadata": {},
   "source": [
    "**DeepSeek:** The cast for Season 31 of Saturday Night Live (SNL) included:\n",
    "\n",
    "* Tina Fey (Host)\n",
    "* Tracy Morgan\n",
    "* Amy Poehler\n",
    "* Maya Rudolph\n",
    "* Rachel Dratch\n",
    "* Fred Armisen\n",
    "* Darrell Hammond\n",
    "* Seth Meyers\n",
    "* Amy Poehler\n",
    "* ...\n",
    "* Cecily Strong\n",
    "* Kate McKinnon\n",
    "* Beck Bennett\n",
    "* Kyle Mooney\n",
    "* Leslie Jones\n",
    "* Sasheer Zamata\n",
    "* Pete Davidson\n",
    "* Michael Che\n",
    "* Colin Jost\n",
    "\n",
    "Please note that this is not an exhaustive list and there may have been additional cast members or guest stars throughout the season."
   ]
  },
  {
   "cell_type": "markdown",
   "id": "ee54e01c-99af-4029-92c8-11a7af787dd6",
   "metadata": {},
   "source": [
    "#### Once again, Llama pulls through with a more succinct description. Now to confirm with the LLM the specific format of an SNL skit, I asked for the blueprint of a sketch."
   ]
  },
  {
   "cell_type": "markdown",
   "id": "0f82fe70-ee98-48bf-9420-45d6633c3b67",
   "metadata": {},
   "source": [
    "### Prompt: what is the blueprint for an snl skit?"
   ]
  },
  {
   "cell_type": "markdown",
   "id": "0163269c-308e-4c17-80f2-4eefa6110756",
   "metadata": {},
   "source": [
    "**Llama:** The blueprint for an SNL skit typically includes the following elements:\n",
    "\n",
    "- Concept: The first step in creating an SNL skit is to come up with an idea or concept. This can involve brainstorming, researching current events, or identifying a particular theme or topic to tackle. The concept should be concise, relatable, and have the potential to be funny.\n",
    "- Characters: Once the concept is established, the next step is to create characters that can bring the idea to life. Characters should be well-defined, with distinct personalities, motivations, and quirks. They should also be relatable to the audience and have the potential to be funny.\n",
    "- Storyline: A good SNL skit needs a clear storyline that sets up the premise and provides a structure for the comedy to unfold. The storyline should be simple, yet engaging, and should provide opportunities for the characters to interact and play off each other.\n",
    "- Comedic elements: The next step is to identify the comedic elements that will make the skit funny. This can include things like absurdity, irony, satire, parody, stereotypes, and wordplay. The comedic elements should be integrated into the storyline and character interactions to create a seamless and hilarious experience.\n",
    "- Dialogue: The dialogue in an SNL skit should be natural, witty, and funny. It should be tailored to each character's personality and should advance the storyline. The dialogue should also be delivered with good timing and pacing to maximize the comedic impact.\n",
    "- Visual elements: SNL skits often incorporate visual elements, such as props, costumes, and sets, to enhance the comedy. The visual elements should be clever, creative, and add to the overall humor of the skit.\n",
    "- Pacing: The pacing of an SNL skit is crucial to its success. The skit should have a good rhythm, with moments of tension, release, and surprise. The pacing should also be tailored to the audience's attention span and should keep them engaged throughout the skit.\n",
    "- Rehearsal: Before the skit is performed live, the cast and crew will typically rehearse it several times to fine-tune the performance. Rehearsals help identify areas that need improvement, such as timing, pacing, and delivery.\n",
    "- Performance: The final step is to perform the skit in front of a live audience. The cast and crew will work together to bring the skit to life, using their skills and experience to create a hilarious and entertaining experience for the audience.\n",
    "By following these steps, SNL writers and performers can create a blueprint for a successful skit that will leave audiences laughing and entertained."
   ]
  },
  {
   "cell_type": "markdown",
   "id": "a1830898-7efa-45f9-a17f-d27f2dced411",
   "metadata": {},
   "source": [
    "**DeepSeek:** The blueprint for an SNL sketch typically includes the following elements:\n",
    "\n",
    "- Concept: The sketch begins with a central concept or idea, which serves as the basis for the humor and action in the sketch.\n",
    "- Characters: The sketch typically features a set of characters, each with their own unique personality and traits.\n",
    "- Setup: The sketch is set up with a brief introduction or premise, which establishes the situation and characters.\n",
    "- Action: The sketch then follows a series of actions or events, which build upon the setup and lead to the punchline or climax.\n",
    "- Punchline: The sketch concludes with a punchline or unexpected twist, which provides the comedic payoff and leaves the audience laughing.\n",
    "- Timing: The sketch is carefully timed and edited to maximize the comedic effect and keep the audience engaged.\n",
    "- Music and Sound Effects: Music and sound effects are often used to enhance the humor and set the tone of the sketch.\n",
    "- Guest Stars: SNL often features guest stars, who add a fresh perspective and energy to the sketch.\n",
    "\n",
    "Overall, the blueprint for an SNL sketch is a carefully crafted combination of concept, characters, setup, action, punchline, timing, music and sound effects, and guest stars."
   ]
  },
  {
   "cell_type": "markdown",
   "id": "40df729a-cdf3-4b09-86d6-cc5a2ad9d61e",
   "metadata": {},
   "source": [
    "#### Interestingly, the first sentence and the first two bullet points of the texts were virtually the same. I actually think DeepSeek's response is better in this context-- short and sweet. I worry about the LLM juggling so many factors in Llama's response. At last, I have prepped my LLMs enough! It's time for the "
   ]
  },
  {
   "cell_type": "markdown",
   "id": "b2c50e51-fd3a-4121-b296-463f8b36e4ac",
   "metadata": {},
   "source": [
    "\n",
    "    Weekend Update on SATURDAY NIGHT LIVE!!!"
   ]
  },
  {
   "cell_type": "markdown",
   "id": "58565c55-424f-4a94-bac2-00011997c867",
   "metadata": {},
   "source": [
    "### Prompt: Make a weekend update snl skit script with a Stefon act played by Bill Hader. Follow the same format and joke style as the show normally does, but make it creative and new (do not repeat any old jokes from the show). "
   ]
  },
  {
   "cell_type": "markdown",
   "id": "a6c0f62f-e035-42a0-9302-058b87e8d54f",
   "metadata": {},
   "source": [
    "**Llama:** Sure, here's a script for a Weekend Update segment featuring Stefon, played by Bill Hader:\n",
    "\n",
    "[Weekend Update theme music plays]\n",
    "\n",
    "Announcer: Welcome back to Weekend Update, the only news program that's not afraid to tackle the tough issues. And now, here's our city correspondent, Stefon, played by Bill Hader.\n",
    "\n",
    "[Stefon enters, wearing a flamboyant outfit and a confident smile]\n",
    "\n",
    "Stefon: Thank you, thank you! It's great to be back, folks! I've got some fantastic news for you. Did you hear about the new club that just opened up in the city? It's called \"Club Bangerz\" and let me tell you, it's the place to be! They've got a DJ spinning nothing but the hottest tracks, and the dance floor is packed with people showing off their best moves.\n",
    "\n",
    "[Stefon takes a sip from an imaginary coffee cup]\n",
    "\n",
    "Stefon: But that's not all, folks! I've also got some juicy gossip for you. I heard that the mayor's son was spotted at Club Bangerz, getting a little too cozy with one of the strippers. Scandal!\n",
    "\n",
    "[Stefon leans in, a conspiratorial look on his face]\n",
    "\n",
    "Stefon: And if that's not enough, I've got some breaking news for you. I just got word that a group of chickens have taken over the city's main power grid. That's right, folks, the chickens are in charge now!\n",
    "\n",
    "[Stefon stands up, looking serious for a moment]\n",
    "\n",
    "Stefon: But don't worry, the city's officials are on it. They're working around the clock to negotiate with the chickens and get the power back on. I mean, who knows what kind of demands they're going to make? Maybe they want more corn? Or a better healthcare plan?\n",
    "\n",
    "[Stefon sits back down, smiling]\n",
    "\n",
    "Stefon: And finally, I've got some exciting news for all you foodies out there. There's a new restaurant in town that's serving up the most delicious dishes you've ever tasted. It's called \"Bistro Bizarre\" and let me tell you, it's a real treat. They've got dishes like \"Flaming Fajitas\" and \"Chicken Tikka Tacos\" and... wait for it... \"Cheetos Crusted Cheesecake\"!\n",
    "\n",
    "[Stefon leans in, a mischievous look on his face]\n",
    "\n",
    "Stefon: But that's not all, folks! I heard that if you order the \"Bizarre Bento Box\" and say the secret password, you'll get a special surprise. I'm not sure what it is, but I heard it's something like a \"Flaming Ferris Wheel Fajita Frenzy\"!\n",
    "\n",
    "[Stefon stands up, holding up an imaginary Bento Box]\n",
    "\n",
    "Stefon: So there you have it, folks, another week in the city. Stay weird, stay wild, and remember, always order the Bizarre Bento Box.\n",
    "\n",
    "[Weekend Update theme music plays as Stefon exits]\n",
    "\n",
    "Announcer: That's Stefon, played by Bill Hader. Tune in next week for more news from the city."
   ]
  },
  {
   "cell_type": "markdown",
   "id": "7eb6a6f1-f84b-4671-bf9a-a00d24d956bd",
   "metadata": {},
   "source": [
    "- Pros of Llama: \"here’s our city correspondent, Stefon,\" \n",
    "\n",
    "- Cons of Llama: \"played by Bill Hader\", [Stefon takes a sip from an imaginary coffee cup] (out of character), everything past that script command... just so out of character"
   ]
  },
  {
   "cell_type": "markdown",
   "id": "f3289742-ed88-4dac-b73a-ea63f8067c6b",
   "metadata": {},
   "source": [
    "**DeepSeek:** Sure, here's a Weekend Update SNL skit script featuring Stefon played by Bill Hader:\n",
    "\n",
    "Anchor: \"Welcome back to Weekend Update, I'm [insert anchor's name]. Joining us now is our nightlife correspondent, Stefon.\"\n",
    "\n",
    "Stefon: \"Hey, what's up guys? It's Stefon, and I've got the hottest club in town for you tonight. It's called 'The Catacomb of Eternal Darkness'.\"\n",
    "\n",
    "Anchor: \"The Catacomb of Eternal Darkness? That sounds...intense.\"\n",
    "\n",
    "Stefon: \"Oh, it is. It's in the basement of an old haunted house, and you have to crawl through a narrow tunnel to get in. But once you're inside, it's like a whole new world. The walls are dripping with slime, and there are creatures lurking in the shadows.\"\n",
    "\n",
    "Anchor: \"Creatures?\"\n",
    "\n",
    "Stefon: \"Yeah, like giant spiders and snakes and...oh my god, is that a velociraptor?\"\n",
    "\n",
    "Anchor: \"A velociraptor?!\"\n",
    "\n",
    "Stefon: \"Yeah, and get this: the DJ is a giant tarantula. He spins records with his eight legs, and he only plays the darkest, most evil music you've ever heard.\"\n",
    "\n",
    "Anchor: \"I don't know if I'm ready for that, Stefon.\"\n",
    "\n",
    "Stefon: \"Oh, come on, it's the coolest club in town. And the best part is, the bouncers are all zombies. They'll let you in for free if you give them a bite of your ear.\"\n",
    "\n",
    "Anchor: \"I'm not sure I want to give a zombie a bite of my ear, Stefon.\"\n",
    "\n",
    "Stefon: \"Trust me, it's worth it. And the drinks are to die for - literally. They're made with blood and eye of newt and all sorts of stuff. You'll love it.\"\n",
    "\n",
    "Anchor: \"I don't know, Stefon. It sounds a little...dangerous.\"\n",
    "\n",
    "Stefon: \"Oh, it is. But that's what makes it so amazing. Trust me, you'll never forget the night you spent at 'The Catacomb of Eternal Darkness'.\"\n",
    "\n",
    "Anchor: \"I'll think about it, Stefon. Thanks for the tip.\"\n",
    "\n",
    "Stefon: \"No problem. See you at the club!\"\n",
    "\n",
    "Anchor: \"I don't think so, Stefon. Thanks for joining us, and we'll be right back.\""
   ]
  },
  {
   "cell_type": "markdown",
   "id": "af449e55-b0a4-4eb1-90fc-0780a30f9202",
   "metadata": {},
   "source": [
    "- Pros of DeepSeek: \"the hottest club in town\" \n",
    "\n",
    "- Cons of DeepSeek: not very funny, but much closer the SNL sketches on YouTube"
   ]
  },
  {
   "cell_type": "markdown",
   "id": "0c4179e2-c42a-4148-926a-94dc6804b6ec",
   "metadata": {},
   "source": [
    "### Reflections"
   ]
  },
  {
   "cell_type": "markdown",
   "id": "c27d9ef7-13e8-41bc-8104-85d0d7351230",
   "metadata": {},
   "source": [
    "Both of these sketches suck!!! I was wrong though and DeepSeek actually presented a more accurate Stefon sketch. Either way, let's leave it to humans to write the comedy, not some large language models. I'll stick to throwback videos on YouTube for now!"
   ]
  },
  {
   "cell_type": "markdown",
   "id": "a785d888-d91b-427a-8e92-9f3ce3d1dbf8",
   "metadata": {},
   "source": [
    "Thanks for tuning in!"
   ]
  },
  {
   "cell_type": "markdown",
   "id": "bc0e7d4f-b86b-44b3-ace4-bb4e62b1b578",
   "metadata": {},
   "source": [
    "Emmy"
   ]
  }
 ],
 "metadata": {
  "citation-manager": {
   "items": {}
  },
  "kernelspec": {
   "display_name": "Python 3.8",
   "language": "python",
   "name": "python3"
  },
  "language_info": {
   "codemirror_mode": {
    "name": "ipython",
    "version": 3
   },
   "file_extension": ".py",
   "mimetype": "text/x-python",
   "name": "python",
   "nbconvert_exporter": "python",
   "pygments_lexer": "ipython3",
   "version": "3.8.8"
  }
 },
 "nbformat": 4,
 "nbformat_minor": 5
}
