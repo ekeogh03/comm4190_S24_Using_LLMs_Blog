{
 "cells": [
  {
   "cell_type": "raw",
   "id": "a1f4d7da-6e6f-431b-9b86-b9bc48aa6bd5",
   "metadata": {},
   "source": [
    "---\n",
    "title: \"ROYGBIV + AI?\"\n",
    "description: \"LLMs claim they can create new colors. But can they really?\"\n",
    "author: \"Emmy Keogh\"\n",
    "date: \"2/12/2024\"\n",
    "categories:\n",
    "  - LLMs\n",
    "  - prompting\n",
    "  - creative\n",
    "---"
   ]
  },
  {
   "cell_type": "markdown",
   "id": "625b67e4-bcc4-4c70-b116-5eaf62ab4725",
   "metadata": {},
   "source": [
    "### Can LLMs Create New Colors?"
   ]
  },
  {
   "cell_type": "markdown",
   "id": "ad62b037-8434-4bee-94ea-8185a5054de6",
   "metadata": {},
   "source": [
    "There has been a lot of online ruckus about how AI is stifling the creation of art and originality. However, I beg to differ. Don't get me wrong, I don't believe that AI should be used to write full movie scripts or to create paintings that belong in the Louvre, but as I thought about some of the possibilities we can do with LLMs, I was intrigued. So I decided to see just how much creative damage I could do-- beginning with creating a new color. "
   ]
  },
  {
   "cell_type": "markdown",
   "id": "4231d8e3-f069-413e-9caf-e6e2969f8207",
   "metadata": {},
   "source": [
    "I start with asking Bing's Copilot: "
   ]
  },
  {
   "cell_type": "markdown",
   "id": "05434bbb-f52c-4388-a21b-8b43ac3cec38",
   "metadata": {},
   "source": [
    "***create a new color***"
   ]
  },
  {
   "cell_type": "markdown",
   "id": "16ef41ab-8f06-4a80-883f-b77f2b951401",
   "metadata": {},
   "source": [
    "The LLM responds very kindly giving me lots of imaginative options to choose from:"
   ]
  },
  {
   "cell_type": "markdown",
   "id": "feca8145-f669-4e0e-abcb-cc9f67ac6cc4",
   "metadata": {},
   "source": [
    "***Certainly! Creating a new color can be a delightful and imaginative process. While I can’t mix actual pigments, I can certainly help you conceptualize a unique color. Let’s embark on this colorful journey together!***\n",
    "\n",
    "1. ***Sunset Coral: Imagine a warm blend of rosy pink and golden orange, reminiscent of a vibrant sunset over the ocean. This color exudes warmth, energy, and a touch of romance.***\n",
    "2. ***Stardust Teal: Picture a deep, mystical shade that combines the richness of midnight blue with a hint of emerald green.***\n",
    "3. ***Moonstone Lavender: Close your eyes and envision a soft, ethereal hue—pale lavender with a subtle shimmer, like moonlight dancing on water. It’s calming, dreamy, and perfect for serene spaces.***\n",
    "4. ***Galactic Plum: Take the intensity of royal purple and infuse it with cosmic energy. This color feels otherworldly, like a distant galaxy swirling in shades of plum and indigo.***\n",
    "\n",
    "***Remember, these colors exist only in our imagination, but you can play with them in your mind or even use them as inspiration for your next creative project! 🌈✨***"
   ]
  },
  {
   "cell_type": "markdown",
   "id": "1d7cbec2-aebb-4478-9f97-4c7d4565979c",
   "metadata": {},
   "source": [
    "I was the most curious about Stardust Teal and Moonstone Lavender, but I couldn't help but think that I've seen very similar variations of these colors already... meaning it didn't do it's job in creating a new color. So I decided to find a color that I thought matched closest to the description and see how different it is the what Copilot created for me."
   ]
  },
  {
   "cell_type": "markdown",
   "id": "e2c4cfbb-57cc-49ba-bed3-7060e8eb10da",
   "metadata": {},
   "source": [
    "### \"My\" Stardust teal"
   ]
  },
  {
   "cell_type": "markdown",
   "id": "9c1997e2-f6ae-4072-a6b6-498fbe3f7761",
   "metadata": {},
   "source": [
    "I imagine Stardust teal as a combination of all the colors in the sky of the northern lights. This is the inspo picture that I think of: "
   ]
  },
  {
   "cell_type": "markdown",
   "id": "d6cb1e42-b5b3-47de-b63e-754d170a26a9",
   "metadata": {},
   "source": [
    "<img src=\"lights.png\" width=\"50%\" />"
   ]
  },
  {
   "cell_type": "markdown",
   "id": "2cdac50c-e7ef-4d88-a605-dcf8584f0a33",
   "metadata": {},
   "source": [
    "### Dall-E 3's Stardust Teal"
   ]
  },
  {
   "cell_type": "markdown",
   "id": "4704220d-a605-4863-be36-1493f5c92246",
   "metadata": {},
   "source": [
    "** Unfortunately, Copilot (which has always been finicky on my computer) said that it would not create images on a work account i.e. my school email, and since I don't have a different Microsoft account, I can no longer use Copilot for images. No worries though the technology that creates images in Copilot is called Dall-E 3 and I found that on a separate site! Carry on! "
   ]
  },
  {
   "cell_type": "markdown",
   "id": "beae066d-7cac-4d14-b50c-d0797ca120e8",
   "metadata": {},
   "source": [
    "<img src=\"onepic.png\" width=\"50%\" />"
   ]
  },
  {
   "cell_type": "markdown",
   "id": "0e12d617-f062-48ad-b337-9d03d498e697",
   "metadata": {},
   "source": [
    "<img src=\"twopic.png\" width=\"50%\" />"
   ]
  },
  {
   "cell_type": "markdown",
   "id": "af1e2c40-859e-423d-9dd2-cfa41c7c55b1",
   "metadata": {},
   "source": [
    "Very interestingly, the LLM did exactly what I would have done without me prompting it to. It went out of it's way to not only give me it's color, but also show me it's inspiration for said color. "
   ]
  },
  {
   "cell_type": "markdown",
   "id": "06cb0717-0b9a-45bc-9020-f5f43f01972a",
   "metadata": {},
   "source": [
    "This got me excited to see if I could accurately guess the process for the next color. "
   ]
  },
  {
   "cell_type": "markdown",
   "id": "871326ef-6e0e-4cac-b729-c2dbb1e45193",
   "metadata": {},
   "source": [
    "### \"My\" Moonstone Lavender"
   ]
  },
  {
   "cell_type": "markdown",
   "id": "6fd444b0-ed01-4837-947b-7b172fc738d1",
   "metadata": {},
   "source": [
    "<img src=\"lavendar.png\" width=\"50%\" />"
   ]
  },
  {
   "cell_type": "markdown",
   "id": "b8701b8a-d260-416b-a35b-076027446865",
   "metadata": {},
   "source": [
    "This may be an odd example to pull from, but the bottom of this dress reminds of of the description from Copilot. This time around I do not think Dall-E 3 will similarly pull from an anime app ad, but this is the color that I imagine Dall-E 3 will be similar to. "
   ]
  },
  {
   "cell_type": "markdown",
   "id": "a5328d50-98f5-43ec-8917-86334de7bac7",
   "metadata": {},
   "source": [
    "### Dall-E 3's Moonstone Lavender"
   ]
  },
  {
   "cell_type": "markdown",
   "id": "b2da1943-265a-47c3-989f-a53017f979c9",
   "metadata": {},
   "source": [
    "<img src=\"pic3.png\" width=\"50%\" />"
   ]
  },
  {
   "cell_type": "markdown",
   "id": "4059ac18-3b9a-4a30-8e83-296c46920c7c",
   "metadata": {},
   "source": [
    "<img src=\"pic4.png\" width=\"50%\" />"
   ]
  },
  {
   "cell_type": "markdown",
   "id": "f12b2984-630d-4c35-b472-d974d6972623",
   "metadata": {},
   "source": [
    "Something interesting about Dall-E 3 is that it creates a product/reason for being along with the color. For Stardust Teal, it was nail polish, and for Moonstone Lavender, it's some lotion. So no dress to match my prediction this time, but the color did turn out very similar."
   ]
  },
  {
   "cell_type": "markdown",
   "id": "03bc7ab9-ef0b-4835-ba77-03511d3f85f6",
   "metadata": {},
   "source": [
    "## Closing Remarks"
   ]
  },
  {
   "cell_type": "markdown",
   "id": "2af930c8-62c5-465e-b149-5daf6042e2db",
   "metadata": {},
   "source": [
    "It would be interesting to see how different Copilot is to Dall-E 3 in interpreting color descriptions, but if Dall-E 3 and I agree for 2/2, then I think Copilot must be pretty similar as well. "
   ]
  },
  {
   "cell_type": "markdown",
   "id": "5d852c2f-22ef-4b0e-bad7-30f7651306ce",
   "metadata": {},
   "source": [
    "After all of this, I think it's important to note that I was not blown away or shocked by either of these colors, and it's because I have seen them before. This means that AI cannot create new colors... at least, not with the prompt that I supplied it with this time. "
   ]
  },
  {
   "cell_type": "markdown",
   "id": "a5b397bc-cc13-4127-814b-593d696a8476",
   "metadata": {},
   "source": [
    "Thanks for tuning in!"
   ]
  },
  {
   "cell_type": "markdown",
   "id": "5b799dbf-4258-484a-b722-c895bdaec407",
   "metadata": {},
   "source": [
    "Emmy"
   ]
  }
 ],
 "metadata": {
  "citation-manager": {
   "items": {}
  },
  "kernelspec": {
   "display_name": "Python 3.8",
   "language": "python",
   "name": "python3"
  },
  "language_info": {
   "codemirror_mode": {
    "name": "ipython",
    "version": 3
   },
   "file_extension": ".py",
   "mimetype": "text/x-python",
   "name": "python",
   "nbconvert_exporter": "python",
   "pygments_lexer": "ipython3",
   "version": "3.8.8"
  }
 },
 "nbformat": 4,
 "nbformat_minor": 5
}
