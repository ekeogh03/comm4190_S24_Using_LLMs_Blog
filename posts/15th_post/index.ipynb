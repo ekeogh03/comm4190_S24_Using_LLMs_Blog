{
 "cells": [
  {
   "cell_type": "raw",
   "id": "7f21f0bf-349d-4c65-b880-b65843d8a5a4",
   "metadata": {},
   "source": [
    "---\n",
    "title: \"Finding My Colors\"\n",
    "description: \"Vision ChatGPT is the new personal stylist?\"\n",
    "author: \"Emmy Keogh\"\n",
    "date: \"4/14/2024\"\n",
    "categories:\n",
    "  - LLMs\n",
    "  - prompting\n",
    "  - creative\n",
    "---"
   ]
  },
  {
   "cell_type": "markdown",
   "id": "4fa5b8a5-b0dd-4ee9-b7a0-c928935b7415",
   "metadata": {},
   "source": [
    "As I was doing one of my earlier blog posts (go check it out if you haven't ;) ) called \"Visual Accuracy Pt 3\", I realized that ChatGPT 4 felt awkward talking about my looks and where it thought my ancestors were from. I was a bit confused though because I know that Vision allows the processing of images to text. Apparently, that topic was too divisive, but now I'm going to ask it a more PC question about fashion! Using the upload an image feature, I am going to ask it to analyze my skin color and hue to give me the best colors to wear for my skin along with figuring out if I'm a silver or gold jewelry girl. Let's start simple..."
   ]
  },
  {
   "cell_type": "markdown",
   "id": "49bee050-653a-4c76-9c95-5ebc39bc5e0a",
   "metadata": {},
   "source": [
    "**Prompt:** Can you tell me what colors suit my tone and features the best?"
   ]
  },
  {
   "cell_type": "markdown",
   "id": "f19d9fc9-e8dc-403f-8616-bf489c3dcdad",
   "metadata": {},
   "source": [
    "<img src=\"pic.jpg\" width=\"50%\" />"
   ]
  },
  {
   "cell_type": "markdown",
   "id": "1a654ec1-7bcc-46ac-aef3-8b661056a2f1",
   "metadata": {},
   "source": [
    "**Response:** (Finally a helpful response!! -Emmy)\n",
    "\n",
    "The image seems to be of a person with fair to medium skin tone with a warm undertone, judging by the golden hints in your complexion. Your hair appears to be a light to medium blonde, and you have a bright smile.\n",
    "\n",
    "Given this, you might fall under a Spring palette, particularly a Light Spring. This means colors that are light and warm would complement your features beautifully. Think of soft, warm pastels like peach, coral, warm pinks, and light aqua. Ivory and a light camel would make excellent neutrals for you, avoiding anything too harsh or contrasting.\n",
    "\n",
    "For your hair, keeping it within the range of golden blonde shades would work well. If you ever want to experiment, adding some light golden highlights could enhance the warm undertone of your skin.\n",
    "\n",
    "Makeup-wise, you could opt for warm and light colors, like peachy pink blushes, golden and soft brown eyeshadows, and a lip color in a warm pink or coral.\n",
    "\n",
    "Remember, the key is to keep the colors warm and light to resonate with your natural coloring. Would you like to see some visual examples?"
   ]
  },
  {
   "cell_type": "markdown",
   "id": "1bec637b-0bf8-47ef-8e6d-be221040a7dd",
   "metadata": {},
   "source": [
    "**Next:** To this I said, \"yes please\"! I was curious to learn more, but I was also hesitant because from experience I don't love peach or light pink on me..."
   ]
  },
  {
   "cell_type": "markdown",
   "id": "9173acc5-c53d-4b6c-8622-23d9e29d43d2",
   "metadata": {},
   "source": [
    "**Response:**\n",
    "\n",
    "Here's a visual representation featuring fashion, style, hair, and makeup choices that suit a Light Spring color palette. The color swatches include light peach, coral, warm pink, and light aqua, which are perfect for your complexion. The clothing choices, like the peach summer dress and coral blouse, should enhance your natural warmth. The hairstyle suggestion of light golden blonde with soft highlights complements the palette and would likely look great on you. The makeup set with peachy pink blush, golden and soft brown eyeshadows, and warm pink lipstick is designed to highlight your features in a subtle yet radiant way. Enjoy exploring these options!"
   ]
  },
  {
   "cell_type": "markdown",
   "id": "dafea9b8-b523-4d61-8a1d-36c2db545324",
   "metadata": {},
   "source": [
    "<img src=\"first.png\" width=\"50%\" />"
   ]
  },
  {
   "cell_type": "markdown",
   "id": "c45bd9b6-5857-4e72-9237-7c4e1699d435",
   "metadata": {},
   "source": [
    "**Next:** Unfortunately, I don't think these are actually my colors. For context, my mom always told me my colors were jewel tones. Perhaps I need to show the GPT a few more pictures of me in different lighting. As for the makeup though and hairstyle, it's fairly spot on and accurate with what I normally do. So I uploaded the picture below and asked: \"This person is the same person but during the summer. Are her colors the same or have they changed?\""
   ]
  },
  {
   "cell_type": "markdown",
   "id": "5407b82b-b236-4a42-8e49-bec4862f8c32",
   "metadata": {},
   "source": [
    "<img src=\"summer.png\" width=\"50%\" />"
   ]
  },
  {
   "cell_type": "markdown",
   "id": "48ded12a-f78f-44d5-8589-4d362e5a4ced",
   "metadata": {},
   "source": [
    "**Response:**\n",
    "\n",
    "The summer sun can indeed affect the appearance of your skin tone, often deepening it slightly and bringing out a warmer glow. Despite these subtle changes, your underlying skin tone typically remains consistent with the season you’ve been categorized in, which in your case seems to be Light Spring. However, when your skin is tanned, you may find that colors with a bit more saturation complement your sun-kissed skin beautifully without overpowering it.\n",
    "\n",
    "You can embrace slightly deeper shades within the Spring palette during the summer months when you have a tan. Consider colors like richer peach, deeper coral, and brighter aquas, which can harmonize well with your tanned complexion. Light and warm colors will still be flattering, but you can explore a range with a bit more depth.\n",
    "\n",
    "It’s all about adapting to the changes in your skin tone while staying within the hues that complement your natural coloring. The golden undertones in your skin will be more pronounced during the summer, allowing for a bit more versatility within the Spring color space. Would you like to explore some summer-specific options within the Light Spring palette?"
   ]
  },
  {
   "cell_type": "markdown",
   "id": "df0c7505-1b44-4cc5-8572-84108cb67cae",
   "metadata": {},
   "source": [
    "**Next:** Once again I said \"yes please\"!"
   ]
  },
  {
   "cell_type": "markdown",
   "id": "22550a74-e3dd-44a6-ac7d-a6c7f3d670cb",
   "metadata": {},
   "source": [
    "**Response:**\n",
    "\n",
    "<img src=\"second.png\" width=\"50%\" />"
   ]
  },
  {
   "cell_type": "markdown",
   "id": "09ea14a0-44db-4f74-85ff-99fde71acef7",
   "metadata": {},
   "source": [
    "**Next:** If I was wrong on my coloring, I need to make sure I'm at least right with my jewelry. Next, I asked, \"What color jewelry should I be wearing: gold or silver?\""
   ]
  },
  {
   "cell_type": "markdown",
   "id": "62c812c4-7535-4945-bfa4-9f8ec179e8f8",
   "metadata": {},
   "source": [
    "**Response:**\n",
    "\n",
    "With the warm undertones of your skin, as a Light Spring, gold jewelry would typically complement your complexion beautifully. Gold echoes the warmth of your skin and often enhances the natural glow of your features, especially in the sunnier months when you may have a bit more color from the sun.\n",
    "\n",
    "However, while gold is generally a safe bet for Light Springs, don’t feel limited if you have a piece of silver jewelry you love. Light Spring can sometimes wear lighter metals, especially if they have a warm or soft finish, rather than a stark, cool-toned silver. If you do choose to wear silver, opt for pieces that are not overly shiny or reflective to maintain harmony with your warm seasonal characteristics.\n",
    "\n",
    "You can also look into rose gold, which is a lovely blend of warm and cool tones, and can work well with the Light Spring palette, adding a touch of sophistication and versatility to your looks."
   ]
  },
  {
   "cell_type": "markdown",
   "id": "268846d0-02d6-424c-ae08-020683cdd7df",
   "metadata": {},
   "source": [
    "**Takeaways:**\n",
    "\n",
    "Success! I am happy to see that I am still a gold jewelry girl because that would be an expensive change. Now I will say, if anyone at home is learning about their colors through this, take it all with a grain of salt. I for one will not change my entire wardrobe to a peach/coral closet, but knowing this information might make me try on a dress I wasn't thinking about before. This was a fun exercise and it's interesting that this GPT acknowledged my tones and features more than the ancestry one."
   ]
  },
  {
   "cell_type": "markdown",
   "id": "81d69149-5547-43de-a7b8-69a8e7ea73a1",
   "metadata": {},
   "source": [
    "Thanks for tuning in,"
   ]
  },
  {
   "cell_type": "markdown",
   "id": "3a7dc115-f40c-454d-9894-1bdca63e7a38",
   "metadata": {},
   "source": [
    "Emmy"
   ]
  },
  {
   "cell_type": "code",
   "execution_count": null,
   "id": "f56d3e86-5028-430f-aac6-997c357e7995",
   "metadata": {},
   "outputs": [],
   "source": []
  }
 ],
 "metadata": {
  "citation-manager": {
   "items": {}
  },
  "kernelspec": {
   "display_name": "Python 3.8",
   "language": "python",
   "name": "python3"
  },
  "language_info": {
   "codemirror_mode": {
    "name": "ipython",
    "version": 3
   },
   "file_extension": ".py",
   "mimetype": "text/x-python",
   "name": "python",
   "nbconvert_exporter": "python",
   "pygments_lexer": "ipython3",
   "version": "3.8.8"
  }
 },
 "nbformat": 4,
 "nbformat_minor": 5
}
