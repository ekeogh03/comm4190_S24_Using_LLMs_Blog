{
 "cells": [
  {
   "cell_type": "raw",
   "id": "8a23d2ee-057d-4893-9cdc-3dbfb26f8b1d",
   "metadata": {},
   "source": [
    "---\n",
    "title: \"Valentine's Day Advice\"\n",
    "description: \"LLM's advice to a hopeless romantic as a girl best friend vs as a guy best friend.\"\n",
    "author: \"Emmy Keogh\"\n",
    "date: \"2/14/2024\"\n",
    "categories:\n",
    "  - LLMs\n",
    "  - prompting\n",
    "  - gender bias\n",
    "---"
   ]
  },
  {
   "cell_type": "markdown",
   "id": "e7417b28-eb69-4f2b-aea4-307669bad33a",
   "metadata": {},
   "source": [
    "### Happy Valentine's Day Readers!"
   ]
  },
  {
   "cell_type": "markdown",
   "id": "09ca79fa-edfe-484a-b784-4e1032ed5d26",
   "metadata": {},
   "source": [
    "<img src=\"love.png\" width=\"50%\" />"
   ]
  },
  {
   "cell_type": "markdown",
   "id": "7e36cda2-6e2a-42e3-a985-391c1393ae08",
   "metadata": {},
   "source": [
    "As my boyfriend delivered me flowers this morning, I thought back to high school and laughed about how that never would have happened. So, in trying to come up with a Valentine-centered prompt for an LLM, I decided to create a story about a high school senior who has a crush on a boy and wants to be his Valentine. However, her best friend knows that the crush likes someone else. I'm interested in seeing how the LLM gives advice as a girl best friend and as a guy best friend."
   ]
  },
  {
   "cell_type": "markdown",
   "id": "4071c027-a680-4b63-b2b8-1198efc60433",
   "metadata": {},
   "source": [
    "In my experience, guys are much more direct and will not flatter you as much. Conversely, girls will hype you up and add loving fluff to distract you from reality. I'll be looking at the tone, filler words, and overall advice when comparing the two responses. Let's get started!"
   ]
  },
  {
   "cell_type": "markdown",
   "id": "19d3175f-d865-4344-be25-f1226eccc782",
   "metadata": {},
   "source": [
    "**Girl Prompt:**"
   ]
  },
  {
   "cell_type": "markdown",
   "id": "8144a537-f027-4cf2-b676-55ba865acbe9",
   "metadata": {},
   "source": [
    "I want you to act like my girl bff. We have been best friends all of high school and it's senior year. I'm hoping my crush will get me flowers and ask me out. You know that he has a crush on someone else. How do you break this news to me? Be descriptive. Make a game plan for me on how I should go about my day."
   ]
  },
  {
   "cell_type": "markdown",
   "id": "66bf96f9-a368-4719-9f46-3c928b53017b",
   "metadata": {},
   "source": [
    "**Response:**"
   ]
  },
  {
   "cell_type": "markdown",
   "id": "0e7e62c6-4414-4bd5-b301-4848134fc58d",
   "metadata": {},
   "source": [
    "Hey **girl**! **Oh my gosh**, senior year is flying by, right? I can't believe it's already Valentine's Day! I've got to say, I'm so excited for you. I know you've been hoping for something special to happen today, especially with your crush.\n",
    "\n",
    "I've been thinking a lot about it, and I know this might not be what you want to hear, but I've noticed something. I've seen how your crush has been acting lately, and it seems like he's really into someone else. I know, it's tough to hear, but I just want to be real with you because you're my **bestie**.\n",
    "\n",
    "Now, before you start feeling down, I want you to remember how amazing you are. **Seriously**, you're smart, funny, and **absolutely** stunning. There's no doubt in my mind that someone out there is going to see all of that and more in you.\n",
    "\n",
    "Okay, game plan time! Today is still your day, **babe**. Let's make it one to remember, regardless of what happens with your crush. First things first, let's focus on you. Wear something that makes you feel confident and fabulous. We want you to shine bright like the star you are.\n",
    "\n",
    "Next up, let's plan some fun activities! How about we grab some lunch together with our other friends? Nothing beats good food and good company, right? Then, let's do something that makes you feel amazing. Whether it's watching your favorite movie, pampering yourself with a DIY spa day, or going for a walk in the park, let's do something that brings you joy.\n",
    "\n",
    "And hey, who knows? Maybe your crush surprises us all and does something sweet. But if not, just know that it's his loss, not yours. You have so much to offer, and the right person will see that.\n",
    "\n",
    "So, are you ready to make this Valentine's Day one for the books? Let's do this, **girl**! 💖"
   ]
  },
  {
   "cell_type": "markdown",
   "id": "3394cb53-fc20-4194-b549-b7cc6cd89e99",
   "metadata": {},
   "source": [
    "-----------------------------------------------------------------------------------------------------------------------------------\n",
    "After reading this response, I immediately felt cared for. Honestly, this LLM did a great job of softly breaking the news to me while still picking me up. I bolded some of the words I don't expect to see in the boy version. Also, I'm creating a new conversation for the next prompt with ChatGPT so it does not remember the previous question.\n",
    "\n",
    "-----------------------------------------------------------------------------------------------------------------------------------"
   ]
  },
  {
   "cell_type": "markdown",
   "id": "8f95ec67-3954-4a92-94a3-000afeb497f2",
   "metadata": {},
   "source": [
    "**Boy Prompt:**"
   ]
  },
  {
   "cell_type": "markdown",
   "id": "6fb3056b-777e-40b3-b911-b32db250e66b",
   "metadata": {},
   "source": [
    "I want you to act like my guy bff. We have been best friends all of high school and it’s senior year. I’m hoping my crush will get me flowers and ask me out. You know that he has a crush on someone else. How do you break this news to me? Be descriptive. Make a game plan for me on how I should go about my day."
   ]
  },
  {
   "cell_type": "markdown",
   "id": "6796ef4e-de3c-41bd-abb6-59eec31ed053",
   "metadata": {},
   "source": [
    "* Interesting to note: this prompt made the LLM think he was giving advice man to man instead of man to woman, so I added \"(I'm a girl)\" right after the first sentence to make it more similar to the first prompt."
   ]
  },
  {
   "cell_type": "markdown",
   "id": "ccb37192-09e3-44e2-9665-86ee453de2f6",
   "metadata": {},
   "source": [
    "**Response:**"
   ]
  },
  {
   "cell_type": "markdown",
   "id": "9419644d-08b9-40fc-a953-492645a3eafa",
   "metadata": {},
   "source": [
    "Hey **buddy**, senior year, can you believe it? Time really does fly. So, **listen**, I've been thinking about our situation with your crush, and I think it's time we had a heart-to-heart.\n",
    "\n",
    "I know you've been hoping for that magical moment where your crush sweeps you off your feet with flowers and asks you out. And trust me, I've seen the sparkle in your eyes every time you talk about it. But here's the thing: I've noticed some signs that your crush might be interested in someone else.\n",
    "\n",
    "I've seen the way they look at that other person, the way they light up when they're around them. It's hard to miss, and it's been weighing on my mind because I want you to be happy, **you know**?\n",
    "\n",
    "So, here's what I think we should do:\n",
    "\n",
    "1. Prepare Yourself Mentally: I know this news might be tough to hear, but I believe in your strength. Take a moment to let it sink in, but remember, you're so much more than any crush or romantic gesture.\n",
    "\n",
    "2. Keep Your Options Open: While it's natural to hope for something special with your crush, don't limit yourself to just one possibility. There are so many amazing people out there, and you deserve someone who sees your worth.\n",
    "\n",
    "3. Embrace the Day: Senior year is all about making memories and embracing new experiences. Don't let this crush situation overshadow your final year in high school. Seize the day, have fun, and make the most of every moment.\n",
    "   \n",
    "5. Lean on Friends: You've got a solid support system right here. Let's spend some quality time together, laugh, share stories, and just be there for each other. Remember, we've got your back no matter what.\n",
    "\n",
    "Alright, **buddy**, what do you say we tackle this day together, with all the courage and resilience we've got? No matter what happens, I'm here for you every step of the way. Let's make senior year one to remember, okay?"
   ]
  },
  {
   "cell_type": "markdown",
   "id": "6110f6cf-e39c-46b3-b9cd-a68de4aaada2",
   "metadata": {},
   "source": [
    "-----------------------------------------------------------------------------------------------------------------------------------\n",
    "I'm excited that both my predictions seemed to line up with ChatGPT's responses. The boy's POV when giving the advice is much more to the point. I think it's interesting that the difference is even as much as the guy making a list versus the girl talking her through it. The guy's \"filler words\" are more stereotypically male, like using \"buddy\" instead of \"girl.\" As for the tone, he seems sympathetic and takes it to heart whereas the girl felt almost as if she was sweeping it under the rug and wanting her to move on as quickly as possible. Both are interesting ways to deliver bad news, and it feels very human.\n",
    "\n",
    "So next time you need love advice, maybe ask your favorite LLM!"
   ]
  },
  {
   "cell_type": "markdown",
   "id": "1f71e655-de68-4ed2-9946-8688e9d1d706",
   "metadata": {},
   "source": [
    "Thanks for tuning in!"
   ]
  },
  {
   "cell_type": "markdown",
   "id": "02d0cd42-940f-4e6d-abb4-3b4ef37db658",
   "metadata": {},
   "source": [
    "Emmy"
   ]
  }
 ],
 "metadata": {
  "citation-manager": {
   "items": {}
  },
  "kernelspec": {
   "display_name": "Python 3.8",
   "language": "python",
   "name": "python3"
  },
  "language_info": {
   "codemirror_mode": {
    "name": "ipython",
    "version": 3
   },
   "file_extension": ".py",
   "mimetype": "text/x-python",
   "name": "python",
   "nbconvert_exporter": "python",
   "pygments_lexer": "ipython3",
   "version": "3.8.8"
  }
 },
 "nbformat": 4,
 "nbformat_minor": 5
}
