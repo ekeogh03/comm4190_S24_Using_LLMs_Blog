{
 "cells": [
  {
   "cell_type": "raw",
   "id": "183aeb8e-d6cf-49fd-942f-58011d5466f9",
   "metadata": {},
   "source": [
    "---\n",
    "title: \"Benefits of AI Music\"\n",
    "description: \"Exploring Suno AI's First Generative Song Service\"\n",
    "author: \"Emmy Keogh\"\n",
    "date: \"4/18/2024\"\n",
    "categories:\n",
    "  - LLMs\n",
    "  - prompting\n",
    "  - logic\n",
    "---"
   ]
  },
  {
   "cell_type": "markdown",
   "id": "8edb15f5-19dc-4775-b121-d7300055564f",
   "metadata": {},
   "source": [
    "Recently, my class discovered the service SUNO which is a a song lyric and beat-generative AI service to creates songs out of simple prompts. This really intrigued me after talking about it in class, but I didn't realize the entire extent of the website until using it in person. The website is very easy to navigate, clearly showing where to type in your prompt. It gives sample prompts to lead the user in the right direction. I hopped right in though and wanted to see how personalized it was. "
   ]
  },
  {
   "cell_type": "markdown",
   "id": "6dbab145-7af1-499d-adbe-ef372b2ca2e1",
   "metadata": {},
   "source": [
    "<img src=\"pic.png\" width=\"50%\" />"
   ]
  },
  {
   "cell_type": "markdown",
   "id": "9edb5eb0-131c-4415-ab9f-c7012051fedf",
   "metadata": {},
   "source": [
    "I started with the prompt: \"a song to wake you up a girl named Emmy in the morning that's upbeat pop\""
   ]
  },
  {
   "cell_type": "markdown",
   "id": "a28a2483-3000-4fea-8bc8-7e0c4735c355",
   "metadata": {},
   "source": [
    "https://suno.com/song/df4e90b5-62a7-4b77-baea-ecd2c3f73cc9"
   ]
  },
  {
   "cell_type": "markdown",
   "id": "3891fe4d-5a21-4a87-afca-3382e59effa1",
   "metadata": {},
   "source": [
    "Please click the link to listen to the song. I was blown away! I found that all the songs were under a minute, but for lyrics and a tune that was invented in 30 seconds from a random prompt, I was extremely impressed!"
   ]
  },
  {
   "cell_type": "markdown",
   "id": "3f3a9094-6d99-425c-bc9f-9b9c3581abf7",
   "metadata": {},
   "source": [
    "This got me thinking... if people now have the ability to create unique songs in seconds, imagine the benefits to society! My first thought was about something I would tell my mom in middle school. I would say, \"If every historical event was written like Hamilton, I would actually like history and I would know everything.\" Of course, that's a huge statement to make, but the base behind it was real. It is easier to memorize important dates and information with a catchy tune. So for my next prompt, I made it useful for a middle schooler to remember some history facts, or in this case:"
   ]
  },
  {
   "cell_type": "markdown",
   "id": "baac9c2f-e8e9-4960-9d13-1e5db0b913b4",
   "metadata": {},
   "source": [
    "\"make a catchy rap style song to remember all the US presidents names\""
   ]
  },
  {
   "cell_type": "markdown",
   "id": "2f3facb7-9a46-46ff-9b9e-86f28402ba16",
   "metadata": {},
   "source": [
    "https://suno.com/song/1f49de64-9aaa-41a8-9179-a69dd56a685d"
   ]
  },
  {
   "cell_type": "markdown",
   "id": "f24b69db-4758-4232-a8cb-c8858e2d89eb",
   "metadata": {},
   "source": [
    "While some of the lyrics aren't the most coherent, the idea is there. I started to think about other facets of life this personalized song generator could apply to. I landed upon the trouble that summer brings couples..."
   ]
  },
  {
   "cell_type": "markdown",
   "id": "c55f914d-0a90-4556-a5e3-57af08e6546b",
   "metadata": {},
   "source": [
    "\"write a pop heartbreak ballad about long distance but knowing it will work out\""
   ]
  },
  {
   "cell_type": "markdown",
   "id": "7e17e155-d9fc-4b73-8080-2624de470e25",
   "metadata": {},
   "source": [
    "https://suno.com/song/1b681fe7-bb7b-45b1-981b-d965b4e9a41e"
   ]
  },
  {
   "cell_type": "markdown",
   "id": "5ac26c31-8333-4082-a3a4-64fca329ab15",
   "metadata": {},
   "source": [
    "Yeah, Taylor Swift and Olivia Rodrigo have written similar pop songs about heartbreak and love and long distance, but in case that didn't scratch the itch that you needed, these songs are perfect for it. Even if it's not your most listened-to, I think there are plenty of benefits for songs written for you about your own experiences. "
   ]
  },
  {
   "cell_type": "markdown",
   "id": "0eec8e28-cd91-4c40-99d0-acc5b5b04b82",
   "metadata": {},
   "source": [
    "The ideas seemed limitless for SUNO. Another example is if someone wants to become more religious but doesn't know where to start. This example uses the New Testament, but of course, it could be applied to any religion. I wrote in: \"a sweet catchy song to get people into the New Testament.\""
   ]
  },
  {
   "cell_type": "markdown",
   "id": "04a23ca2-8908-44fc-aed5-9c02c24232b1",
   "metadata": {},
   "source": [
    "https://suno.com/song/03bd35d2-a036-4c75-8314-70b674350b85"
   ]
  },
  {
   "cell_type": "markdown",
   "id": "f305c60b-2308-4f2c-adde-9d70266faeb6",
   "metadata": {},
   "source": [
    "Finally, I tried to create cheer music to practice to for Penn's Cheer team, since we don't have any. Cheer music works in 8-counts, so I'm curious if SUNO is trained enough to know that for the beats. My prompt: \"all-star cheer music about university of Pennsylvania that's easy to choreograph to 8 counts\""
   ]
  },
  {
   "cell_type": "markdown",
   "id": "ebc2e3a7-467d-4a17-a709-da23870bd02a",
   "metadata": {},
   "source": [
    "https://suno.com/song/c4c3d590-63a7-4f1b-8544-5cd3efc89a8a"
   ]
  },
  {
   "cell_type": "markdown",
   "id": "3d865870-1911-428f-bb49-5003500ec33d",
   "metadata": {},
   "source": [
    "It's not quite what I was looking for, but I'm sure in good time it will get there. "
   ]
  },
  {
   "cell_type": "markdown",
   "id": "9d92f768-a036-4b82-ae46-203ff3eecef8",
   "metadata": {},
   "source": [
    "I had a lot of fun with this website, and I encourage people to use it at least as a creative exercise. Some worries for technology like this are figuring out where copyright draws the line and how musicians/producers/songwriters feel about this technology. Of course, there are obvious differences right now between human art and this AI, so it's not a main worry right now I would assume."
   ]
  },
  {
   "cell_type": "markdown",
   "id": "e9f0a958-525a-417b-b6b0-ff13d827c546",
   "metadata": {},
   "source": [
    "Thanks for tuning in,"
   ]
  },
  {
   "cell_type": "markdown",
   "id": "c135f0c1-c417-49c1-b512-5872001b6183",
   "metadata": {},
   "source": [
    "Emmy"
   ]
  }
 ],
 "metadata": {
  "citation-manager": {
   "items": {}
  },
  "kernelspec": {
   "display_name": "Python 3.8",
   "language": "python",
   "name": "python3"
  },
  "language_info": {
   "codemirror_mode": {
    "name": "ipython",
    "version": 3
   },
   "file_extension": ".py",
   "mimetype": "text/x-python",
   "name": "python",
   "nbconvert_exporter": "python",
   "pygments_lexer": "ipython3",
   "version": "3.8.8"
  }
 },
 "nbformat": 4,
 "nbformat_minor": 5
}
