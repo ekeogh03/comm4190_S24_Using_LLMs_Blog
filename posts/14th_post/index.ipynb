{
 "cells": [
  {
   "cell_type": "raw",
   "id": "d00cc1f8-babf-433f-90a3-374b437371a7",
   "metadata": {},
   "source": [
    "---\n",
    "title: \"The Winner of March Madness is… Pt 3\"\n",
    "description: \"Review of the LLM's March Madness Predictions\"\n",
    "author: \"Emmy Keogh\"\n",
    "date: \"4/06/2024\"\n",
    "categories:\n",
    "  - LLMs\n",
    "  - prompting\n",
    "  - series\n",
    "---"
   ]
  },
  {
   "cell_type": "markdown",
   "id": "680bf04e-d154-44fc-8bc5-7422fbafe129",
   "metadata": {},
   "source": [
    "Hey guys! I just wanted to come back and update everyone on my LLM's Women's March Madness predictions! If you can remember, I set out to see if different promptings based on how serious my tone and situation were would increase the accuracy of the bracket winners. "
   ]
  },
  {
   "cell_type": "markdown",
   "id": "48645daf-07df-4204-8224-a0d3da5fe007",
   "metadata": {},
   "source": [
    "I ideally wanted 3 different prompts: trying to beat your boyfriend, needing to win for my family's wellbeing, and a professional basketball connoisseur trying to beat an LLM. As mentioned in the previous blogs, I ran out of time as I didn't know that the first game had started already. So only comparing the accuracy of the first two prompts, let's hop right in!"
   ]
  },
  {
   "cell_type": "markdown",
   "id": "184d3eb4-683a-437a-b553-d578fe6c8d08",
   "metadata": {},
   "source": [
    "First, I just wanted to reflect on my experience in working with the Sports Betting GBT found through ChatGBT 4. It warned me that it was currently trained with knowledge up to December of 2023, but then it assured me that it could still search Google to find relevant information. My next struggle was when I tried to upload the whole bracket for an easy filling process, the LLM immediately got confused. Interestingly, LLMs have not been trained enough to understand bracket play. It sometimes got it right, but it mainly read right to left instead of pairing each bracket up. On top of those issues, sometimes the LLM would repeat the loser as a winner in a future bracket. Overall, the process was very tedious as I had to manually insert multiple pictures of the brackets. Nevertheless, it did give me winners, so at a glance, let's check out the accuracy!"
   ]
  },
  {
   "cell_type": "markdown",
   "id": "d20d6578-946e-4ced-be83-fbe4dc4f1859",
   "metadata": {},
   "source": [
    "### Prompt 1:\n",
    "I need help! I’m trying to impress my boyfriend who just added me to his friend group’s 2024 Women’s March Madness bracket. He’s a huge basketball fan, but I’m not really into it. His favorite team is Ole Miss because he went there for undergrad, so I guess that’s my favorite team too. I just need a good bracket to impress him and to try to beat his bracket. Please give winners for each of the games below by filling out the entire bracket.\n"
   ]
  },
  {
   "cell_type": "markdown",
   "id": "0c4f2e11-c721-4ae6-8d15-0cc6090a17a1",
   "metadata": {},
   "source": [
    "#### Intensity Level: 4\n",
    "*On a scale from 0 (couldn't care less how it goes) to 10 (will kill myself if it's wrong)*"
   ]
  },
  {
   "cell_type": "markdown",
   "id": "db357655-538f-4ebb-ba1d-aae95ba4a74a",
   "metadata": {},
   "source": [
    "#### Percentage Correct of the Final Four:"
   ]
  },
  {
   "cell_type": "markdown",
   "id": "89164620-f2c5-468e-bcfe-a5884b8c3cd3",
   "metadata": {},
   "source": [
    "LLM: UConn vs Iowa and South Carolina vs Texas --> South Carolina vs UConn"
   ]
  },
  {
   "cell_type": "markdown",
   "id": "afd0f367-c832-46f4-ae05-402b2a64e9ee",
   "metadata": {},
   "source": [
    "Actual: UConn vs Iowa and South Carolina vs NC State --> Iowa vs South Carolina"
   ]
  },
  {
   "cell_type": "markdown",
   "id": "3bf6e9c5-2e41-4710-b8a0-0daeacc9cd4c",
   "metadata": {},
   "source": [
    "Percentage = **75% accuracy** for final four; **50%** accuracy for championship game"
   ]
  },
  {
   "cell_type": "markdown",
   "id": "f690b944-6e74-4104-9a6b-a34a5db78ebb",
   "metadata": {},
   "source": [
    "#### Was the winner correct?"
   ]
  },
  {
   "cell_type": "markdown",
   "id": "d67ef714-9df3-48a2-9081-787abc7608f9",
   "metadata": {},
   "source": [
    "Yes! South Carolina was accurately predicted as the winner!"
   ]
  },
  {
   "cell_type": "markdown",
   "id": "bd916068-1b68-48c1-9c00-dfa7d25acf84",
   "metadata": {},
   "source": [
    "### Prompt 2:\n",
    "Listen, I need the most promising bracket for the 2024 March Madness bracket. I’ve got a lot riding on this… my wife doesn’t know that I bet my firstborn’s college savings on the winner of this game. If I don’t get 99% of my predictions correct, I’m screwed. Help me out, man. Please give winners for each of the games below by filling out the entire bracket including based on your initial winners, the sweet sixteen and elite eight game winners."
   ]
  },
  {
   "cell_type": "markdown",
   "id": "8fb77e0e-5bb1-4874-92d3-b9dad16a782c",
   "metadata": {},
   "source": [
    "#### Intensity Level: 8.5"
   ]
  },
  {
   "cell_type": "markdown",
   "id": "e615a700-b8ae-4042-8420-838095404db1",
   "metadata": {},
   "source": [
    "#### Percentage Correct of the Final Four:"
   ]
  },
  {
   "cell_type": "markdown",
   "id": "0c556663-12b6-4852-8688-2a5d2dea5bfe",
   "metadata": {},
   "source": [
    "LLM: UConn vs Texas and USC vs South Carolina --> South Carolina vs UConn"
   ]
  },
  {
   "cell_type": "markdown",
   "id": "a6656c35-c008-4fe9-aa8a-e8f8d18c91cb",
   "metadata": {},
   "source": [
    "Actual: UConn vs Iowa and South Carolina vs NC State --> Iowa vs South Carolina"
   ]
  },
  {
   "cell_type": "markdown",
   "id": "6c6e70c4-e430-4991-9053-9c22d72e7da8",
   "metadata": {},
   "source": [
    "Percentage = **50% accuracy** for final four; **50%** accuracy for championship game"
   ]
  },
  {
   "cell_type": "markdown",
   "id": "20046331-7bd9-46e2-a72c-fb4e7c8b530c",
   "metadata": {},
   "source": [
    "#### Was the winner correct?"
   ]
  },
  {
   "cell_type": "markdown",
   "id": "06e23f21-35ca-4304-b745-b5aacca082da",
   "metadata": {},
   "source": [
    "No! UConn was not the winner! In fact, they didn't even make it to the championship game."
   ]
  },
  {
   "cell_type": "markdown",
   "id": "af534b5f-8734-4567-9b1f-5fdc0121558c",
   "metadata": {},
   "source": [
    "### Takeways"
   ]
  },
  {
   "cell_type": "markdown",
   "id": "837d83d1-e94a-4275-bebf-9086eca84098",
   "metadata": {},
   "source": [
    "Much like humans, in this experiment, I found that the LLM cracked under pressure. I asked ChatGPT 4 for how they would rank these two prompts on the same intensity scale, and it said Pormpt 1 was a 7 and Prompt 2 was a 10. I did give the LLMs big bulks of information at a time, so if I had all the time in the world I would have gone game by game and asked to focus on certain aspects like program history, season injuries, etc. But I don't have time for that, and Generative AI is supposed to make written tasks more efficient. Alas, I'm from South Carolina so I'm just happy to see that both prompts ended with South Carolina in the championship game."
   ]
  },
  {
   "cell_type": "markdown",
   "id": "ba64e381-4fec-49f5-97ea-d9f455e4c773",
   "metadata": {},
   "source": [
    "Until next time. Go Cocks!"
   ]
  },
  {
   "cell_type": "markdown",
   "id": "dc96323e-1a4d-4eb5-a0de-f6ef540f6581",
   "metadata": {},
   "source": [
    "Emmy"
   ]
  },
  {
   "cell_type": "code",
   "execution_count": null,
   "id": "3855a472-ec27-45d2-92b3-b2b234b30854",
   "metadata": {},
   "outputs": [],
   "source": []
  }
 ],
 "metadata": {
  "citation-manager": {
   "items": {}
  },
  "kernelspec": {
   "display_name": "Python 3.8",
   "language": "python",
   "name": "python3"
  },
  "language_info": {
   "codemirror_mode": {
    "name": "ipython",
    "version": 3
   },
   "file_extension": ".py",
   "mimetype": "text/x-python",
   "name": "python",
   "nbconvert_exporter": "python",
   "pygments_lexer": "ipython3",
   "version": "3.8.8"
  }
 },
 "nbformat": 4,
 "nbformat_minor": 5
}
