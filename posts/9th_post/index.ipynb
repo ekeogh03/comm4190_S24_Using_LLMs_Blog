{
 "cells": [
  {
   "cell_type": "raw",
   "id": "0a304054-b906-49e1-b888-9cfbe130c0c7",
   "metadata": {},
   "source": [
    "---\n",
    "title: \"Visual Accuracy of Ancestry.com Pt 2\"\n",
    "description: \"We know what Co-Pilot thinks I look like, but what about my family?\"\n",
    "author: \"Emmy Keogh\"\n",
    "date: \"3/15/2024\"\n",
    "categories:\n",
    "  - LLMs\n",
    "  - prompting\n",
    "  - creative\n",
    "  - series\n",
    "---"
   ]
  },
  {
   "cell_type": "code",
   "execution_count": null,
   "id": "2acc3c65-0cb8-4431-9409-075f27a2d8a1",
   "metadata": {},
   "outputs": [],
   "source": []
  }
 ],
 "metadata": {
  "citation-manager": {
   "items": {}
  },
  "kernelspec": {
   "display_name": "Python 3.8",
   "language": "python",
   "name": "python3"
  },
  "language_info": {
   "codemirror_mode": {
    "name": "ipython",
    "version": 3
   },
   "file_extension": ".py",
   "mimetype": "text/x-python",
   "name": "python",
   "nbconvert_exporter": "python",
   "pygments_lexer": "ipython3",
   "version": "3.8.8"
  }
 },
 "nbformat": 4,
 "nbformat_minor": 5
}
