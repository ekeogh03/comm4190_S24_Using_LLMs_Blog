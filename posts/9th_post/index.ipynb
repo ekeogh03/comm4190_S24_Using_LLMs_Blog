{
 "cells": [
  {
   "cell_type": "raw",
   "id": "0a304054-b906-49e1-b888-9cfbe130c0c7",
   "metadata": {},
   "source": [
    "---\n",
    "title: \"Visual Accuracy of Ancestry.com Pt 2\"\n",
    "description: \"We know what Co-Pilot thinks I look like, but what about my family?\"\n",
    "author: \"Emmy Keogh\"\n",
    "date: \"3/15/2024\"\n",
    "categories:\n",
    "  - LLMs\n",
    "  - prompting\n",
    "  - creative\n",
    "  - series\n",
    "---"
   ]
  },
  {
   "cell_type": "markdown",
   "id": "f9330c4d-85bd-4806-9cde-9f8f153aceaa",
   "metadata": {},
   "source": [
    "Turns out my Part 1 had much success! My parents were so intrigued by the specifics of an AI-generated image that they asked for not only them but the entire family. I asked them to send over everyone's DNA from Ancestry.com and got to prompting!"
   ]
  },
  {
   "cell_type": "markdown",
   "id": "d99baa4e-8bf2-45e1-9ceb-48dfd09a6146",
   "metadata": {},
   "source": [
    "### My Mom's Prompt:"
   ]
  },
  {
   "cell_type": "markdown",
   "id": "6fb280c2-4338-4892-a79a-9f24b543d8ae",
   "metadata": {},
   "source": [
    "Create a photo as realistic as possible of a 53-year-old woman who is 48% English/Northwestern European, 26% Irish, 19% Scottish, 2% from Wales, and 5% Sweden and Denmark. Be detailed!"
   ]
  },
  {
   "cell_type": "markdown",
   "id": "a50edb67-3d11-495b-9789-b2f4746eda67",
   "metadata": {},
   "source": [
    "<img src=\"realmom.png\" width=\"50%\" />"
   ]
  },
  {
   "cell_type": "markdown",
   "id": "c79e6b21-0a6d-4d8e-bcb1-d66a86b05a8f",
   "metadata": {},
   "source": [
    "<img src=\"mom.png\" width=\"50%\" />"
   ]
  },
  {
   "cell_type": "markdown",
   "id": "96a4dee8-da37-4d4c-8eae-be1d83aca439",
   "metadata": {},
   "source": [
    "### My Dad's Prompt:"
   ]
  },
  {
   "cell_type": "markdown",
   "id": "0fab99b6-c02a-4244-bc1b-d7423a81be06",
   "metadata": {},
   "source": [
    "Create a photo as realistic as possible of a 53 year old man who is 28% English/Northwestern European, 31% Irish, 30% Scottish, 2% from Wales, and 9% Finnish. Be detailed!"
   ]
  },
  {
   "cell_type": "markdown",
   "id": "6be84410-f17a-441f-8528-b430f16ad4ed",
   "metadata": {},
   "source": [
    "<img src=\"realdad.png\" width=\"50%\" />"
   ]
  },
  {
   "cell_type": "markdown",
   "id": "beb58d32-91f5-40fc-a228-d13ec2b8971c",
   "metadata": {},
   "source": [
    "<img src=\"dad.png\" width=\"50%\" />"
   ]
  },
  {
   "cell_type": "markdown",
   "id": "7ba9e9a8-ef4a-466e-abe4-38b0906c49a2",
   "metadata": {},
   "source": [
    "### My Brother's Prompt:"
   ]
  },
  {
   "cell_type": "markdown",
   "id": "79e1b548-b262-4942-b5b5-f232ef8e11db",
   "metadata": {},
   "source": [
    "Create a photo as realistic as possible of a 23 year old man who is 47% English/Northwestern European, 26% Irish, 19% Scottish, 2% from Wales, and 5% from Sweden and Denmark. Be detailed!"
   ]
  },
  {
   "cell_type": "markdown",
   "id": "9f884bf4-82a0-4260-8e96-47366cfb0e80",
   "metadata": {},
   "source": [
    "<img src=\"realteddy.png\" width=\"50%\" />"
   ]
  },
  {
   "cell_type": "markdown",
   "id": "03cd2237-f494-46e2-b8b9-6c42093c9282",
   "metadata": {},
   "source": [
    "<img src=\"teddy.png\" width=\"50%\" />"
   ]
  },
  {
   "cell_type": "markdown",
   "id": "ec3e7ba2-0ea6-4b98-bc8d-4f7b69b8b0a3",
   "metadata": {},
   "source": [
    "### My Sister's Prompt:"
   ]
  },
  {
   "cell_type": "markdown",
   "id": "8791bf6f-c9cc-414d-85d4-ddb1afdcd987",
   "metadata": {},
   "source": [
    "Create a photo as realistic as possible of an 18 year old young lady who is 34% English/Northwestern European, 26% Irish, 23% Scottish, 3% from Wales, 3% Finnish, and 4% from Norway. Be detailed!"
   ]
  },
  {
   "cell_type": "markdown",
   "id": "8293943a-ab22-4918-b06d-2b6974a7e54a",
   "metadata": {},
   "source": [
    "<img src=\"realgracie.png\" width=\"50%\" />"
   ]
  },
  {
   "cell_type": "markdown",
   "id": "ee8a940b-d491-4837-96f9-1cdcb04568c8",
   "metadata": {},
   "source": [
    "<img src=\"gracie.png\" width=\"50%\" />"
   ]
  },
  {
   "cell_type": "markdown",
   "id": "816e9d98-2d1a-457d-81ce-751cbe35c002",
   "metadata": {},
   "source": [
    "### My Grandmother's Prompt:"
   ]
  },
  {
   "cell_type": "markdown",
   "id": "40d24416-aa13-4780-892f-0d413ed6391d",
   "metadata": {},
   "source": [
    "Create a photo as realistic as possible of a 83 year old woman who is 64% English/Northwestern European, 7% Irish, 12% Scottish, 2% from Wales, 3% Germanic European, and 12% from Sweden and Denmark. Be detailed!"
   ]
  },
  {
   "cell_type": "markdown",
   "id": "4eb914d7-a679-4068-889e-de7b2b9f5d4d",
   "metadata": {},
   "source": [
    "<img src=\"realnena.png\" width=\"50%\" />"
   ]
  },
  {
   "cell_type": "markdown",
   "id": "476317d4-bc14-4603-afa5-3a67d7a7422b",
   "metadata": {},
   "source": [
    "<img src=\"nena.png\" width=\"50%\" />"
   ]
  },
  {
   "cell_type": "markdown",
   "id": "e5cad952-afd0-4c9d-a822-61be9be7e23d",
   "metadata": {},
   "source": [
    "### My Grandfathers's Prompt:"
   ]
  },
  {
   "cell_type": "markdown",
   "id": "6a345c4b-019f-416a-91a8-6b084efd6d14",
   "metadata": {},
   "source": [
    "Create a photo as realistic as possible of a 83 year old man who is 21% English/Northwestern European, 46% Irish, 26% Scottish, 2% from Wales, and 5% Germanic European. Be detailed!"
   ]
  },
  {
   "cell_type": "markdown",
   "id": "062596ee-9f29-4d43-9caa-26b5c995da24",
   "metadata": {},
   "source": [
    "<img src=\"realpapa.png\" width=\"50%\" />"
   ]
  },
  {
   "cell_type": "markdown",
   "id": "357689e0-85fc-4511-a998-07c94a9ded63",
   "metadata": {},
   "source": [
    "<img src=\"papa.png\" width=\"50%\" />"
   ]
  },
  {
   "cell_type": "markdown",
   "id": "868910e7-81f1-4dfb-9e99-acb0aa9be204",
   "metadata": {},
   "source": [
    "### Concluding Thoughts"
   ]
  },
  {
   "cell_type": "markdown",
   "id": "f5ab5eb3-8b8a-4edf-96c9-1623dd2ed23a",
   "metadata": {},
   "source": [
    "I believe that my family members would look more accurate if I prompted it more specifically. Something I've noticed is that AI-generated images always give pictures of healthy, attractive, and kind humans unless otherwise stated. So for my grandfather, if I added that he has diabetes then I'd be curious if it might be a bit more accurate without adding physical specifics to the prompt. Also, most eyes were blue and most of the men had beards. I wonder if that's because it's easier for AI to give a more human-like photo if more skin is covered. As for the blue eyes, I assume that was the prediction based on the DNA. The closest response I'd say is probably my sister. "
   ]
  },
  {
   "cell_type": "markdown",
   "id": "ef0d0db8-4de0-42a7-94bd-955a63b88a7b",
   "metadata": {},
   "source": [
    "My family was entertained by my findings, but they weren't convinced that this these images were their doppelgangers. Still a fun exercise though!"
   ]
  },
  {
   "cell_type": "markdown",
   "id": "dc12e2e9-0add-488d-8e16-7f309b0f4d5a",
   "metadata": {},
   "source": [
    "Thanks for tuning in,"
   ]
  },
  {
   "cell_type": "markdown",
   "id": "35ee611e-7448-4209-b5f1-e8034b1910f3",
   "metadata": {},
   "source": [
    "Emmy"
   ]
  },
  {
   "cell_type": "code",
   "execution_count": null,
   "id": "e240e20a-61f8-4f06-86fc-a530d361ec63",
   "metadata": {},
   "outputs": [],
   "source": []
  }
 ],
 "metadata": {
  "citation-manager": {
   "items": {}
  },
  "kernelspec": {
   "display_name": "Python 3.8",
   "language": "python",
   "name": "python3"
  },
  "language_info": {
   "codemirror_mode": {
    "name": "ipython",
    "version": 3
   },
   "file_extension": ".py",
   "mimetype": "text/x-python",
   "name": "python",
   "nbconvert_exporter": "python",
   "pygments_lexer": "ipython3",
   "version": "3.8.8"
  }
 },
 "nbformat": 4,
 "nbformat_minor": 5
}
