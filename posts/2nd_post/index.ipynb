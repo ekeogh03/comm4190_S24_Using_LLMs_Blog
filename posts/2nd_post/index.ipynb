{
 "cells": [
  {
   "cell_type": "raw",
   "id": "2414289f-6100-49d0-a9ca-428b9d86f54c",
   "metadata": {},
   "source": [
    "---\n",
    "title: \"Order Matters\"\n",
    "description: \"LLMs need a specific order of words to register certain actions\"\n",
    "author: \"Emmy Keogh\"\n",
    "date: \"2/2/2024\"\n",
    "categories:\n",
    "  - LLMs\n",
    "  - prompting\n",
    "  - logic\n",
    "---"
   ]
  },
  {
   "cell_type": "markdown",
   "id": "c848a099-e71c-4afc-87f1-03a5f2c82c1f",
   "metadata": {},
   "source": [
    "## A ChatGPT Experience!"
   ]
  },
  {
   "cell_type": "markdown",
   "id": "bc13e481-b9b2-47e5-a776-efbe700b0b68",
   "metadata": {},
   "source": [
    "As I was writing a paper for one of my classes, I turned to ChatGPT for help with synonyms. I used to refer to the thesaurus, but the ease and amount of options made ChatGPT the obvious resource to use... Or so I thought. "
   ]
  },
  {
   "cell_type": "markdown",
   "id": "b07cc5d1-8c79-4fe4-bc9a-355aa340a2c3",
   "metadata": {},
   "source": [
    "ChatGPT in the past allowed me to input the most simple request, and it would immediately output what I was looking for. But for some reason, the day I went to request a synonym for \"regarding\", the LLM was stuck!"
   ]
  },
  {
   "cell_type": "markdown",
   "id": "a3b7baf7-e85b-4a0a-a1ca-3cf262e77372",
   "metadata": {},
   "source": [
    "-----------------------------------------------------------------------------------------------------------------------------------"
   ]
  },
  {
   "cell_type": "markdown",
   "id": "dd00338e-876a-4e8c-8768-e8ff9f1ccbc8",
   "metadata": {},
   "source": [
    "#### I typed:"
   ]
  },
  {
   "cell_type": "markdown",
   "id": "d3ef5d09-1c53-4966-a30c-94c0314fbb41",
   "metadata": {},
   "source": [
    "regarding synonym"
   ]
  },
  {
   "cell_type": "markdown",
   "id": "dc60e9e7-fda3-486a-80fa-5a61e82429bf",
   "metadata": {},
   "source": [
    "#### It returned:"
   ]
  },
  {
   "cell_type": "markdown",
   "id": "c20ba39c-312d-4191-8166-5dec2d909a05",
   "metadata": {},
   "source": [
    "Could you please provide more context or specify the word you need a synonym for? This will help me provide a more accurate suggestion."
   ]
  },
  {
   "cell_type": "markdown",
   "id": "4cb3cecd-ecff-43ae-8c27-d7d4218f80d0",
   "metadata": {},
   "source": [
    "-----------------------------------------------------------------------------------------------------------------------------------"
   ]
  },
  {
   "cell_type": "markdown",
   "id": "285491e2-0aa8-4382-adf1-abce1700e42e",
   "metadata": {},
   "source": [
    "Of course, I understood that ChatGPT was processing an incomplete request to do something with the word synonym from the conversation above, but I was shocked that its first instinct wasn't just outputting the synonym. "
   ]
  },
  {
   "cell_type": "markdown",
   "id": "bfe7fc96-6113-4887-9ec4-36c3030347cc",
   "metadata": {},
   "source": [
    "-----------------------------------------------------------------------------------------------------------------------------------"
   ]
  },
  {
   "cell_type": "markdown",
   "id": "9c00645f-1de1-4a47-8a60-e2dfe06fc7c9",
   "metadata": {},
   "source": [
    "#### So then I typed:"
   ]
  },
  {
   "cell_type": "markdown",
   "id": "032c8679-5497-4526-adb4-28bf782696b6",
   "metadata": {},
   "source": [
    "synonym for regarding"
   ]
  },
  {
   "cell_type": "markdown",
   "id": "056719b1-7a13-43f9-afb2-e6f911ea1a10",
   "metadata": {},
   "source": [
    "-----------------------------------------------------------------------------------------------------------------------------------"
   ]
  },
  {
   "cell_type": "markdown",
   "id": "d3041b62-1ce8-4362-83a1-9c9c5138a763",
   "metadata": {},
   "source": [
    "#### It returned:"
   ]
  },
  {
   "cell_type": "markdown",
   "id": "e85caa9e-b9e6-4405-9c6b-c12725cd1a59",
   "metadata": {},
   "source": [
    "A synonym for \"regarding\" could be \"concerning,\" \"relating to,\" \"pertaining to,\" \"in relation to,\" or \"with respect to.\" Each of these alternatives can be used interchangeably with \"regarding\" to indicate the subject of discussion or consideration."
   ]
  },
  {
   "cell_type": "markdown",
   "id": "5bffc59f-1eb0-4df4-8d9e-e45d05353c5e",
   "metadata": {},
   "source": [
    "-----------------------------------------------------------------------------------------------------------------------------------"
   ]
  },
  {
   "cell_type": "markdown",
   "id": "a8df697a-9616-46ef-b6aa-ad6859eeba22",
   "metadata": {},
   "source": [
    "Just an interesting experience I had regarding the order of words using LLMs!"
   ]
  },
  {
   "cell_type": "markdown",
   "id": "71272a87-1fe7-49a6-b34c-0bae85836bb6",
   "metadata": {},
   "source": [
    "### Thanks for tuning in!"
   ]
  }
 ],
 "metadata": {
  "citation-manager": {
   "items": {}
  },
  "kernelspec": {
   "display_name": "Python 3.8",
   "language": "python",
   "name": "python3"
  },
  "language_info": {
   "codemirror_mode": {
    "name": "ipython",
    "version": 3
   },
   "file_extension": ".py",
   "mimetype": "text/x-python",
   "name": "python",
   "nbconvert_exporter": "python",
   "pygments_lexer": "ipython3",
   "version": "3.8.8"
  }
 },
 "nbformat": 4,
 "nbformat_minor": 5
}
