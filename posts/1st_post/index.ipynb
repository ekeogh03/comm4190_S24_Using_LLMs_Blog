{
 "cells": [
  {
   "cell_type": "raw",
   "id": "2028e81e-55ab-43ca-b8ac-e2c8b980a258",
   "metadata": {},
   "source": [
    "---\n",
    "title: \"My first post!\"\n",
    "description: \"Hopefully this works! I can't wait to write on this blog site.\"\n",
    "author: \"Emmy\"\n",
    "date: \"2/2/2024\"\n",
    "categories:\n",
    "  - LLMs\n",
    "  - prompting\n",
    "  - logic\n",
    "---"
   ]
  },
  {
   "cell_type": "markdown",
   "id": "a14fbb47-d475-442c-b49f-f8e84b358856",
   "metadata": {},
   "source": [
    "Yo"
   ]
  }
 ],
 "metadata": {
  "citation-manager": {
   "items": {}
  },
  "kernelspec": {
   "display_name": "Python 3.8",
   "language": "python",
   "name": "python3"
  },
  "language_info": {
   "codemirror_mode": {
    "name": "ipython",
    "version": 3
   },
   "file_extension": ".py",
   "mimetype": "text/x-python",
   "name": "python",
   "nbconvert_exporter": "python",
   "pygments_lexer": "ipython3",
   "version": "3.8.8"
  }
 },
 "nbformat": 4,
 "nbformat_minor": 5
}
